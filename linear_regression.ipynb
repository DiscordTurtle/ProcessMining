{
 "cells": [
  {
   "cell_type": "code",
   "execution_count": 1,
   "metadata": {},
   "outputs": [
    {
     "name": "stdout",
     "output_type": "stream",
     "text": [
      "set the data\n"
     ]
    }
   ],
   "source": [
    "#import libraries\n",
    "import pandas as pd\n",
    "import numpy as np\n",
    "import seaborn as sns\n",
    "import matplotlib.pyplot as plt\n",
    "\n",
    "#import the neccessary module\n",
    "from helper import Model\n",
    "from helper import Auxiliary\n",
    "\n",
    "# Modelling\n",
    "from sklearn.linear_model import LinearRegression\n",
    "\n",
    "#Evaluating\n",
    "from sklearn.metrics import accuracy_score\n",
    "from sklearn.metrics import precision_score\n",
    "from sklearn.metrics import r2_score"
   ]
  },
  {
   "attachments": {},
   "cell_type": "markdown",
   "metadata": {},
   "source": [
    "MODEL FOR 2012 DATASET"
   ]
  },
  {
   "cell_type": "code",
   "execution_count": 2,
   "metadata": {},
   "outputs": [
    {
     "name": "stdout",
     "output_type": "stream",
     "text": [
      "Start preprocessing data\n",
      "Finished preprocessing data\n",
      "Start splitting data\n",
      "Finished splitting data\n"
     ]
    }
   ],
   "source": [
    "df = Model.get_csv('BPI_Challenge_2012.csv')\n",
    "\n",
    "#Preprocess data and then split it into train and test sets\n",
    "df_train, df_test = Auxiliary.train_test_split(Auxiliary.preprocess_data(df))"
   ]
  },
  {
   "cell_type": "code",
   "execution_count": 3,
   "metadata": {},
   "outputs": [],
   "source": [
    "#only select needed columns\n",
    "df_train = df_train.drop(['case:AMOUNT_REQ', 'case:REG_DATE', 'time:timestamp'], axis=1)\n",
    "df_test = df_test.drop(['case:AMOUNT_REQ', 'case:REG_DATE', 'time:timestamp'], axis=1)"
   ]
  },
  {
   "cell_type": "code",
   "execution_count": 4,
   "metadata": {},
   "outputs": [],
   "source": [
    "#remove entries where there is NaN\n",
    "df_train = df_train.dropna()\n",
    "df_test = df_test.dropna()\n",
    "df_train = df_train.replace(-1, 0)\n",
    "df_test = df_test.replace(-1, 0)\n",
    "\n",
    "q__train_hi  = df_train[\"Next Time\"].quantile(0.97)\n",
    "df_train = df_train[df_train[\"Next Time\"] < q__train_hi]\n",
    "q_test_hi = df_test[\"Next Time\"].quantile(0.97)\n",
    "df_test = df_test[df_test[\"Next Time\"] < q_test_hi]"
   ]
  },
  {
   "cell_type": "code",
   "execution_count": 5,
   "metadata": {},
   "outputs": [],
   "source": [
    "#split the data into training and test sets\n",
    "X_train = df_train.drop(['Next Time'], axis=1)\n",
    "X_test = df_test.drop(['Next Time'], axis=1)\n",
    "y_train = df_train['Next Time']\n",
    "y_test = df_test['Next Time']"
   ]
  },
  {
   "cell_type": "code",
   "execution_count": 6,
   "metadata": {},
   "outputs": [],
   "source": [
    "#create an instance of a Linear Regression model and then fit this to our training data\n",
    "reg = LinearRegression()\n",
    "reg.fit(X_train, y_train)\n",
    "\n",
    "#predict the data\n",
    "y_pred_train = reg.predict(X_train)\n",
    "y_pred = reg.predict(X_test)"
   ]
  },
  {
   "cell_type": "code",
   "execution_count": 7,
   "metadata": {},
   "outputs": [
    {
     "name": "stdout",
     "output_type": "stream",
     "text": [
      "15132\n",
      "\n",
      "R2-Score: 0.19897276978378953 \n",
      "R2-score train: 0.193344708830395\n"
     ]
    }
   ],
   "source": [
    "#compute the accuracy of the predictor\n",
    "r2score_train = r2_score(y_train, y_pred_train)\n",
    "r2score = r2_score(y_test, y_pred)\n",
    "print(y_pred.size)\n",
    "print(\"\\nR2-Score:\",  r2score, \"\\nR2-score train:\", r2score_train)"
   ]
  },
  {
   "attachments": {},
   "cell_type": "markdown",
   "metadata": {},
   "source": [
    "MODEL FOR 2017 DATASET"
   ]
  },
  {
   "cell_type": "code",
   "execution_count": 8,
   "metadata": {},
   "outputs": [
    {
     "name": "stdout",
     "output_type": "stream",
     "text": [
      "Start preprocessing data\n",
      "Finished preprocessing data\n",
      "Start splitting data\n",
      "Finished splitting data\n"
     ]
    }
   ],
   "source": [
    "df_2017 = Model.get_csv('BPI_Challenge_2017.csv')\n",
    "\n",
    "#Preprocess data and then split it into train and test sets\n",
    "df_train_2017, df_test_2017 = Auxiliary.train_test_split(Auxiliary.preprocess_data_2017(df_2017))"
   ]
  },
  {
   "cell_type": "code",
   "execution_count": 9,
   "metadata": {},
   "outputs": [],
   "source": [
    "#only select needed columns\n",
    "df_train_2017 = df_train_2017.drop(['org:resource', 'EventOrigin', 'EventID', 'time:timestamp', 'Action', 'case:LoanGoal', 'case:ApplicationType', 'FirstWithdrawalAmount', 'NumberOfTerms', 'Accepted', 'MonthlyCost', 'Selected', 'CreditScore', 'OfferedAmount', 'OfferID', 'case:REG_DATE'], axis=1)\n",
    "df_test_2017 = df_test_2017.drop(['org:resource', 'EventOrigin', 'EventID', 'time:timestamp', 'Action', 'case:LoanGoal', 'case:ApplicationType', 'FirstWithdrawalAmount', 'NumberOfTerms', 'Accepted', 'MonthlyCost', 'Selected', 'CreditScore', 'OfferedAmount', 'OfferID', 'case:REG_DATE'], axis=1)"
   ]
  },
  {
   "cell_type": "code",
   "execution_count": 10,
   "metadata": {},
   "outputs": [],
   "source": [
    "#remove entries where there is NaN\n",
    "df_train_2017 = df_train_2017.dropna()\n",
    "df_test_2017 = df_test_2017.dropna()\n",
    "df_train_2017 = df_train_2017.replace(-1, 0)\n",
    "df_test_2017 = df_test_2017.replace(-1, 0)\n",
    "\n",
    "q__train_hi_2017 = df_train_2017[\"Next Time\"].quantile(0.97)\n",
    "df_train_2017 = df_train_2017[df_train_2017[\"Next Time\"] < q__train_hi_2017]\n",
    "q_test_hi_2017 = df_test_2017[\"Next Time\"].quantile(0.97)\n",
    "df_test_2017 = df_test_2017[df_test_2017[\"Next Time\"] < q_test_hi_2017]"
   ]
  },
  {
   "cell_type": "code",
   "execution_count": 11,
   "metadata": {},
   "outputs": [],
   "source": [
    "#split the data into training and test sets\n",
    "X_train_2017 = df_train_2017.drop(['Next Time'], axis=1)\n",
    "X_test_2017 = df_test_2017.drop(['Next Time'], axis=1)\n",
    "y_train_2017 = df_train_2017['Next Time']\n",
    "y_test_2017 = df_test_2017['Next Time']"
   ]
  },
  {
   "cell_type": "code",
   "execution_count": 12,
   "metadata": {},
   "outputs": [],
   "source": [
    "#create an instance of a Linear Regression model and then fit this to our training data\n",
    "reg_2017 = LinearRegression()\n",
    "reg_2017.fit(X_train_2017, y_train_2017)\n",
    "\n",
    "#predict the data\n",
    "y_pred_train_2017 = reg_2017.predict(X_train_2017)\n",
    "y_pred_2017 = reg_2017.predict(X_test_2017)"
   ]
  },
  {
   "cell_type": "code",
   "execution_count": 13,
   "metadata": {},
   "outputs": [
    {
     "name": "stdout",
     "output_type": "stream",
     "text": [
      "233241\n",
      "\n",
      "R2-Score: 0.11437271745337518 \n",
      "R2-score train: 0.1085852672332992\n"
     ]
    }
   ],
   "source": [
    "#compute the accuracy of the predictor\n",
    "r2score_train_2017 = r2_score(y_train_2017, y_pred_train_2017)\n",
    "r2score_2017 = r2_score(y_test_2017, y_pred_2017)\n",
    "print(y_pred_2017.size)\n",
    "print(\"\\nR2-Score:\",  r2score_2017, \"\\nR2-score train:\", r2score_train_2017)"
   ]
  }
 ],
 "metadata": {
  "kernelspec": {
   "display_name": "base",
   "language": "python",
   "name": "python3"
  },
  "language_info": {
   "codemirror_mode": {
    "name": "ipython",
    "version": 3
   },
   "file_extension": ".py",
   "mimetype": "text/x-python",
   "name": "python",
   "nbconvert_exporter": "python",
   "pygments_lexer": "ipython3",
   "version": "3.8.8"
  },
  "orig_nbformat": 4
 },
 "nbformat": 4,
 "nbformat_minor": 2
}
