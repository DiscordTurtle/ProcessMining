{
 "cells": [
  {
   "cell_type": "code",
   "execution_count": 61,
   "metadata": {},
   "outputs": [
    {
     "name": "stderr",
     "output_type": "stream",
     "text": [
      "\u001b[38;5;39m2023-03-24 20:56:58,694 -     INFO - Importing libraries... (2238536406.py:2)\u001b[0m\n"
     ]
    }
   ],
   "source": [
    "from log import logger\n",
    "logger.info('Importing libraries...')\n",
    "import pandas as pd\n",
    "import numpy as np\n",
    "import seaborn as sns\n",
    "import matplotlib.pyplot as plt\n",
    "\n",
    "#import the neccessary module\n",
    "from helper import Model\n",
    "from helper import Auxiliary\n",
    "# Modelling\n",
    "from keras.models import Sequential\n",
    "from keras import layers\n",
    "from keras.backend import clear_session"
   ]
  },
  {
   "attachments": {},
   "cell_type": "markdown",
   "metadata": {},
   "source": [
    "Get train test data\n"
   ]
  },
  {
   "cell_type": "code",
   "execution_count": 72,
   "metadata": {},
   "outputs": [
    {
     "name": "stderr",
     "output_type": "stream",
     "text": [
      "\u001b[38;5;39m2023-03-24 21:03:49,589 -     INFO - Reading data... (2686146794.py:2)\u001b[0m\n",
      "\u001b[38;5;39m2023-03-24 21:03:49,726 -     INFO - Selecting columns:'case:concept:name', 'concept:name', 'time:timestamp', 'Next Time', 'lifecycle:transition' (2686146794.py:7)\u001b[0m\n",
      "\u001b[38;5;39m2023-03-24 21:03:49,733 -     INFO - Removing NaN values... (2686146794.py:12)\u001b[0m\n",
      "\u001b[38;5;39m2023-03-24 21:03:49,744 -     INFO - Eliminating outliers... (2686146794.py:19)\u001b[0m\n",
      "\u001b[38;5;39m2023-03-24 21:03:49,755 -     INFO - One hot encoding of the activities... (2686146794.py:33)\u001b[0m\n",
      "\u001b[38;5;39m2023-03-24 21:03:49,862 -     INFO - Pulling the week day from the timestamp and hot encoding it... (2686146794.py:40)\u001b[0m\n",
      "\u001b[38;5;39m2023-03-24 21:03:50,249 -     INFO - Dropping timestamp... (2686146794.py:54)\u001b[0m\n",
      "\u001b[38;5;39m2023-03-24 21:03:50,255 -     INFO - Encoding lifecycle:transition... (2686146794.py:59)\u001b[0m\n"
     ]
    }
   ],
   "source": [
    "#df_train, df_test = Auxiliary.train_test_split(Auxiliary.preprocess_data(Model.get_csv('BPI_Challenge_2012.csv')))\n",
    "logger.info('Reading data...')\n",
    "df_train = Model.get_csv('train.csv')\n",
    "df_test = Model.get_csv('test.csv')\n",
    "\n",
    "#only select needed columns\n",
    "logger.info(\"Selecting columns:'case:concept:name', 'concept:name', 'time:timestamp', 'Next Time', 'lifecycle:transition'\")\n",
    "df_train = df_train[['case:concept:name', 'concept:name', 'time:timestamp', 'Next Time', 'lifecycle:transition']]\n",
    "df_test = df_test[['case:concept:name', 'concept:name', 'time:timestamp', 'Next Time', 'lifecycle:transition']]\n",
    "\n",
    "#remove entries where there is NaN\n",
    "logger.info('Removing NaN values...')\n",
    "df_train = df_train.dropna()\n",
    "df_test = df_test.dropna()\n",
    "df_train = df_train.replace(-1, 0)\n",
    "df_test = df_test.replace(-1, 0)\n",
    "\n",
    "#eliminate outliers\n",
    "logger.info('Eliminating outliers...')\n",
    "q__train_low = df_train[\"Next Time\"].quantile(0.03)\n",
    "\n",
    "q__train_hi  = df_train[\"Next Time\"].quantile(0.99)\n",
    "\n",
    "#df_train = df_train[df_train[\"Next Time\"] < q__train_hi]\n",
    "q_test_low = df_test[\"Next Time\"].quantile(0.01)\n",
    "q_test_hi = df_test[\"Next Time\"].quantile(0.99)\n",
    "df_test = df_test[(df_test[\"Next Time\"] < q_test_hi) & (df_test[\"Next Time\"] > q_test_low)]\n",
    "# df_test = df_test[df_test[\"Next Time\"] < q_test_hi]\n",
    "\n",
    "df_train = df_train[(df_train[\"Next Time\"] < q__train_hi) & (df_train[\"Next Time\"] > q__train_low)]\n",
    "\n",
    "#One hot encoding of the activities\n",
    "logger.info('One hot encoding of the activities...')\n",
    "df_train['concept:name'] = df_train['concept:name'].apply(lambda x: Auxiliary.one_hot_encode(x, 24))\n",
    "df_test['concept:name'] = df_test['concept:name'].apply(lambda x: Auxiliary.one_hot_encode(x, 24))\n",
    "\n",
    "\n",
    "from datetime import datetime\n",
    "#get week day from timestamp and hot encode it\n",
    "logger.info('Pulling the week day from the timestamp and hot encoding it...')\n",
    "df_train['time:timestamp'] = pd.to_datetime(df_train['time:timestamp'])\n",
    "\n",
    "df_train['Week Day'] = df_train['time:timestamp'].apply(lambda x: x.strftime('%w'))\n",
    "\n",
    "df_train['Week Day'] = df_train['Week Day'].apply(lambda x: Auxiliary.one_hot_encode(int(x), 7))\n",
    "\n",
    "df_test['time:timestamp'] = pd.to_datetime(df_test['time:timestamp'])\n",
    "\n",
    "df_test['Week Day'] = df_test['time:timestamp'].apply(lambda x: int(x.strftime('%w')))\n",
    "\n",
    "df_test['Week Day'] = df_test['Week Day'].apply(lambda x: Auxiliary.one_hot_encode(int(x), 7))\n",
    "\n",
    "#drop timestamp\n",
    "logger.info('Dropping timestamp...')\n",
    "df_train.drop(['time:timestamp'], axis=1, inplace=True)\n",
    "df_test.drop(['time:timestamp'], axis=1, inplace=True)\n",
    "\n",
    "#encode lifecycle:transition\n",
    "logger.info('Encoding lifecycle:transition...')\n",
    "df_train['lifecycle:transition'] = df_train['lifecycle:transition'].apply(lambda x: Auxiliary.one_hot_encode(x, df_train['lifecycle:transition'].nunique()))\n",
    "df_test['lifecycle:transition'] = df_test['lifecycle:transition'].apply(lambda x: Auxiliary.one_hot_encode(x, df_test['lifecycle:transition'].nunique()))"
   ]
  },
  {
   "attachments": {},
   "cell_type": "markdown",
   "metadata": {},
   "source": [
    "Encode the concept:name"
   ]
  },
  {
   "cell_type": "code",
   "execution_count": 73,
   "metadata": {},
   "outputs": [
    {
     "name": "stderr",
     "output_type": "stream",
     "text": [
      "\u001b[38;5;39m2023-03-24 21:04:17,318 -     INFO - Splitting data into x and y... (4105737707.py:2)\u001b[0m\n"
     ]
    }
   ],
   "source": [
    "#x_train = df_train[['org:resource', 'lifecycle:transition','concept:name','case:AMOUNT_REQ','month', 'day']]\n",
    "logger.info('Splitting data into x and y...')\n",
    "x_train = df_train[['concept:name', 'lifecycle:transition', 'Week Day']]\n",
    "y_train = df_train[['Next Time']]\n",
    "#x_test = df_test[['org:resource', 'lifecycle:transition','concept:name','case:AMOUNT_REQ','month', 'day']]\n",
    "x_test = df_test[['concept:name' , 'lifecycle:transition', 'Week Day']]\n",
    "y_test = df_test[['Next Time']]"
   ]
  },
  {
   "cell_type": "code",
   "execution_count": 64,
   "metadata": {},
   "outputs": [
    {
     "name": "stdout",
     "output_type": "stream",
     "text": [
      "(38862, 3)\n",
      "(38862, 1)\n"
     ]
    }
   ],
   "source": [
    "print(x_train.shape)\n",
    "print(y_train.shape)"
   ]
  },
  {
   "attachments": {},
   "cell_type": "markdown",
   "metadata": {},
   "source": [
    "Normalizing y values "
   ]
  },
  {
   "cell_type": "code",
   "execution_count": 74,
   "metadata": {},
   "outputs": [
    {
     "name": "stderr",
     "output_type": "stream",
     "text": [
      "\u001b[38;5;39m2023-03-24 21:04:48,935 -     INFO - Normalizing y values... (700907669.py:4)\u001b[0m\n"
     ]
    }
   ],
   "source": [
    "#normalize y values\n",
    "\n",
    "split_location = y_train.shape[0]\n",
    "logger.info('Normalizing y values...')\n",
    "y_df = pd.concat([y_train, y_test])\n",
    "\n",
    "from sklearn.preprocessing import MinMaxScaler\n",
    "scaler = MinMaxScaler()\n",
    "\n",
    "scaler.fit(y_df)\n",
    "\n",
    "y_df = scaler.transform(y_df)\n",
    "\n",
    "#Resplit as numpy arrays\n",
    "y_train = y_df[0:split_location]\n",
    "y_test = y_df[split_location:]\n",
    "\n",
    "x_train = x_train.values\n",
    "x_test = x_test.values"
   ]
  },
  {
   "cell_type": "code",
   "execution_count": 66,
   "metadata": {},
   "outputs": [
    {
     "name": "stdout",
     "output_type": "stream",
     "text": [
      "(38862, 3) (38862, 1) (17201, 3) (17201, 1)\n"
     ]
    }
   ],
   "source": [
    "print(x_train.shape, y_train.shape, x_test.shape, y_test.shape)"
   ]
  },
  {
   "cell_type": "code",
   "execution_count": 75,
   "metadata": {},
   "outputs": [
    {
     "name": "stderr",
     "output_type": "stream",
     "text": [
      "\u001b[38;5;39m2023-03-24 21:05:38,225 -     INFO - Reshaping x values from 3D to 2D... (3610226961.py:1)\u001b[0m\n",
      "\u001b[38;5;39m2023-03-24 21:05:38,587 -     INFO - Reshaping y values from 2D to 1D... (3610226961.py:18)\u001b[0m\n"
     ]
    }
   ],
   "source": [
    "logger.info('Reshaping x values from 3D to 2D...')\n",
    "temp_array = []\n",
    "real_x_train = []\n",
    "real_x_test = []\n",
    "for index,value in enumerate(x_train):\n",
    "    temp_array = []\n",
    "    temp_array = value[0]\n",
    "    temp_array = np.append(temp_array, value[1])\n",
    "    temp_array = np.append(temp_array, value[2])\n",
    "    real_x_train.append(temp_array)\n",
    "for index,value in enumerate(x_test):\n",
    "    temp_array = []\n",
    "    temp_array = value[0]\n",
    "    temp_array = np.append(temp_array, value[1])\n",
    "    temp_array = np.append(temp_array, value[2])\n",
    "    real_x_test.append(temp_array)\n",
    "\n",
    "logger.info('Reshaping y values from 2D to 1D...')\n",
    "real_y_train = []\n",
    "real_y_test = []\n",
    "for index,value in enumerate(y_train):\n",
    "    real_y_train.append(value[0])\n",
    "for index,value in enumerate(y_test):\n",
    "    real_y_test.append(value[0])\n",
    "\n",
    "y_train = np.array(real_y_train)\n",
    "y_test = np.array(real_y_test)\n",
    "\n",
    "x_train = np.array(real_x_train)\n",
    "x_test = np.array(real_x_test)"
   ]
  },
  {
   "attachments": {},
   "cell_type": "markdown",
   "metadata": {},
   "source": [
    "RFR Hyperparameter optimizer through grid search"
   ]
  },
  {
   "cell_type": "code",
   "execution_count": null,
   "metadata": {},
   "outputs": [],
   "source": [
    "from hyperopt import hp, tpe, fmin, Trials, STATUS_OK\n",
    "from sklearn.model_selection import cross_val_score\n",
    "from sklearn.ensemble import RandomForestRegressor\n",
    "\n",
    "RFR_space = {'criterion': hp.choice('criterion', ['squared_error', 'absolute_error', 'poisson', 'friedman_mse']),\n",
    "             'max_depth': hp.choice('max_depth', range(1, 10)),\n",
    "             'min_samples_split': hp.choice('min_samples_split', range(2, 10)),\n",
    "             'min_samples_leaf': hp.choice('min_samples_leaf', range(1, 10)),\n",
    "             'min_weight_fraction_leaf': hp.uniform('min_weight_fraction_leaf', 0, 0.5),\n",
    "             'max_features': hp.choice('max_features', ['sqrt', 'log2', None]),\n",
    "             'max_leaf_nodes': hp.choice('max_leaf_nodes', range(2, 10)),\n",
    "             'min_impurity_decrease': hp.uniform('min_impurity_decrease', 0, 0.5),\n",
    "             'verbose': 1,\n",
    "             'n_jobs': None\n",
    "             }\n",
    "def RFR_objective(space):\n",
    "    model = RandomForestRegressor(**space)\n",
    "    accuracy = cross_val_score(model, x_train, y_train, cv = 5).mean()\n",
    "    return {'loss': -accuracy, 'status': STATUS_OK}\n",
    "    \n",
    "trials = Trials()\n",
    "\n",
    "best_RFR = fmin(fn = RFR_objective,\n",
    "            space = RFR_space,\n",
    "            algo = tpe.suggest,\n",
    "            max_evals = 50,\n",
    "            trials = trials)\n",
    "\n",
    "\n",
    "best_RFR"
   ]
  },
  {
   "attachments": {},
   "cell_type": "markdown",
   "metadata": {},
   "source": [
    "'criterion' : 'friedman_mse'\n",
    "'max_depth' : 9\n",
    "'max_features': 'log2'\n",
    "'max_leaf_nodes' : 6\n",
    "'min_impurity_decrease' : 0.3345\n",
    "'min_samples_leaf' : 5\n",
    "'min_samples_split' : 5\n",
    "'min_weight_fraction_leaf': 0.000216\n"
   ]
  },
  {
   "cell_type": "code",
   "execution_count": 76,
   "metadata": {},
   "outputs": [
    {
     "name": "stdout",
     "output_type": "stream",
     "text": [
      "Grid searched RFR hyperparameters metrics\n",
      "Mean absolute error = 0.06\n",
      "Mean squared error = 0.02\n",
      "Median absolute error = 0.02\n",
      "Explain variance score = -0.01\n",
      "R2 score = -0.02\n",
      "Z score = 6.085417725068386e-18\n",
      "\n",
      "\n",
      "No hyperparameters RFR metrics\n",
      "Mean absolute error = 0.05\n",
      "Mean squared error = 0.02\n",
      "Median absolute error = 0.0\n",
      "Explain variance score = -0.12\n",
      "R2 score = -0.15\n",
      "Z score = -1.2404889978024017e-17\n"
     ]
    }
   ],
   "source": [
    "from sklearn.ensemble import RandomForestRegressor\n",
    "\n",
    "regr = RandomForestRegressor(criterion = 'friedman_mse',\n",
    "                                max_depth = 9,\n",
    "                                max_features= 'log2',\n",
    "                                max_leaf_nodes= 6,\n",
    "                                min_impurity_decrease= 0.3345,\n",
    "                                min_samples_leaf= 5,\n",
    "                                min_samples_split= 5,\n",
    "                                min_weight_fraction_leaf= 0.000216,\n",
    "                                )\n",
    "\n",
    "model = regr.fit(x_train, y_train)\n",
    "\n",
    "regr2 = RandomForestRegressor()\n",
    "\n",
    "model2 = regr2.fit(x_train, y_train)\n",
    "\n",
    "\n",
    "y_test_pred = model.predict(x_test)\n",
    "y_2_test_pred = model2.predict(x_test)\n",
    "\n",
    "#save \n",
    "import sklearn.metrics as sm\n",
    "import scipy.stats as stats\n",
    "\n",
    "print(\"Grid searched RFR hyperparameters metrics\")\n",
    "print(\"Mean absolute error =\", round(sm.mean_absolute_error(y_test, y_test_pred), 2)) \n",
    "print(\"Mean squared error =\", round(sm.mean_squared_error(y_test, y_test_pred), 2)) \n",
    "print(\"Median absolute error =\", round(sm.median_absolute_error(y_test, y_test_pred), 2)) \n",
    "print(\"Explain variance score =\", round(sm.explained_variance_score(y_test, y_test_pred), 2)) \n",
    "print(\"R2 score =\", round(sm.r2_score(y_test, y_test_pred), 2))\n",
    "print(\"Z score =\",  np.average(stats.zscore(y_test_pred)))\n",
    "print('\\n')\n",
    "print(\"No hyperparameters RFR metrics\")\n",
    "print(\"Mean absolute error =\", round(sm.mean_absolute_error(y_test, y_2_test_pred), 2)) \n",
    "print(\"Mean squared error =\", round(sm.mean_squared_error(y_test, y_2_test_pred), 2)) \n",
    "print(\"Median absolute error =\", round(sm.median_absolute_error(y_test, y_2_test_pred), 2)) \n",
    "print(\"Explain variance score =\", round(sm.explained_variance_score(y_test, y_2_test_pred), 2)) \n",
    "print(\"R2 score =\", round(sm.r2_score(y_test, y_2_test_pred), 2))\n",
    "print(\"Z score =\",  np.average(stats.zscore(y_2_test_pred)))\n"
   ]
  },
  {
   "cell_type": "code",
   "execution_count": 77,
   "metadata": {},
   "outputs": [
    {
     "name": "stdout",
     "output_type": "stream",
     "text": [
      "[0.02122224 0.01962406 0.01396642 ... 0.00805232 0.02787297 0.00805232]\n",
      "[1.61209733e-07 1.44864857e-05 9.54231307e-03 ... 1.85994535e-03\n",
      " 7.25136535e-01 2.42501233e-05]\n"
     ]
    }
   ],
   "source": [
    "print(y_test_pred)\n",
    "print(y_test)"
   ]
  },
  {
   "cell_type": "code",
   "execution_count": 82,
   "metadata": {},
   "outputs": [
    {
     "name": "stdout",
     "output_type": "stream",
     "text": [
      "[ 0.02122208  0.01960958  0.00442411 ...  0.00619238 -0.69726357\n",
      "  0.00802807]\n"
     ]
    }
   ],
   "source": [
    "RFR_difference = y_test_pred - y_test\n",
    "print(RFR_difference)"
   ]
  },
  {
   "cell_type": "code",
   "execution_count": null,
   "metadata": {},
   "outputs": [],
   "source": []
  },
  {
   "cell_type": "code",
   "execution_count": 83,
   "metadata": {},
   "outputs": [
    {
     "name": "stdout",
     "output_type": "stream",
     "text": [
      "[ 0.02122208  0.01960958  0.00442411 ...  0.00619238 -0.69726357\n",
      "  0.00802807]\n"
     ]
    },
    {
     "name": "stderr",
     "output_type": "stream",
     "text": [
      "c:\\Users\\Cristian\\AppData\\Local\\Programs\\Python\\Python310\\lib\\site-packages\\IPython\\core\\pylabtools.py:151: UserWarning: This figure includes Axes that are not compatible with tight_layout, so results might be incorrect.\n",
      "  fig.canvas.print_figure(bytes_io, **kw)\n"
     ]
    },
    {
     "data": {
      "image/png": "[encoded data removed]",
      "text/plain": [
       "<Figure size 800x550 with 1 Axes>"
      ]
     },
     "metadata": {},
     "output_type": "display_data"
    }
   ],
   "source": [
    "import matplotlib.pyplot as plt\n",
    "\n",
    "plt.style.use('seaborn-v0_8')\n",
    "fig = plt.figure()\n",
    "ax = plt.axes()\n",
    "\n",
    "data_to_plot = RFR_difference\n",
    "#remove nan values\n",
    "#remove outliers from data\n",
    "#data_to_plot = data_to_plot[data_to_plot.between(data_to_plot.quantile(.5), data_to_plot.quantile(.95))]\n",
    "\n",
    "print(data_to_plot)\n",
    "\n",
    "# plot normally\n",
    "plt.rcParams[\"figure.figsize\"] = [10.50, 3.50]\n",
    "plt.rcParams[\"figure.autolayout\"] = True\n",
    "plt.axhline(y=0, color='orange', linestyle='-', zorder=2)\n",
    "plt.plot(data_to_plot, zorder=1)\n",
    "plt.legend(['Truth value',], loc='lower right', )\n",
    "\n",
    "plt.title('Time difference between predicted time and actual time (RFR)')\n",
    "plt.xlabel('Entries')\n",
    "plt.ylabel('Time difference (s)')\n",
    "plt.show()\n"
   ]
  },
  {
   "cell_type": "code",
   "execution_count": 28,
   "metadata": {},
   "outputs": [],
   "source": [
    "clear_session()"
   ]
  },
  {
   "cell_type": "code",
   "execution_count": 11,
   "metadata": {},
   "outputs": [
    {
     "name": "stdout",
     "output_type": "stream",
     "text": [
      "[0 0 1 0 0 0 0 0 0 0 0 0 0 0 0 0 0 0 0 0 0 0 0 0 1 0 0 0 0 0 0 0 1 0]\n"
     ]
    }
   ],
   "source": [
    "print(x_train[4])"
   ]
  },
  {
   "cell_type": "code",
   "execution_count": 80,
   "metadata": {},
   "outputs": [
    {
     "name": "stdout",
     "output_type": "stream",
     "text": [
      "SVM metrics\n",
      "Mean absolute error = 0.11\n",
      "Mean squared error = 0.02\n",
      "Median absolute error = 0.09\n",
      "Explain variance score = -0.05\n",
      "R2 score = -0.18\n",
      "Z score = 2.808654334646947e-16\n"
     ]
    }
   ],
   "source": [
    "import numpy as npimport\n",
    "import matplotlib.pyplot as plt\n",
    "import pandas as pd\n",
    "from sklearn.svm import SVR\n",
    "\n",
    "regressor = SVR(kernel = 'rbf')\n",
    "regressor.fit(x_train, y_train)\n",
    "svm_y_test = regressor.predict(x_test)\n",
    "\n",
    "import sklearn.metrics as sm\n",
    "import scipy.stats as stats\n",
    "\n",
    "print(\"SVM metrics\")\n",
    "print(\"Mean absolute error =\", round(sm.mean_absolute_error(y_test, svm_y_test), 2)) \n",
    "print(\"Mean squared error =\", round(sm.mean_squared_error(y_test, svm_y_test), 2)) \n",
    "print(\"Median absolute error =\", round(sm.median_absolute_error(y_test, svm_y_test), 2)) \n",
    "print(\"Explain variance score =\", round(sm.explained_variance_score(y_test, svm_y_test), 2)) \n",
    "print(\"R2 score =\", round(sm.r2_score(y_test, svm_y_test), 2))\n",
    "print(\"Z score =\",  np.average(stats.zscore(svm_y_test)))"
   ]
  },
  {
   "cell_type": "code",
   "execution_count": 84,
   "metadata": {},
   "outputs": [],
   "source": [
    "SVM_difference = svm_y_test - y_test"
   ]
  },
  {
   "cell_type": "code",
   "execution_count": 86,
   "metadata": {},
   "outputs": [
    {
     "name": "stdout",
     "output_type": "stream",
     "text": [
      "[ 0.10022878  0.09998128  0.05483661 ...  0.0981627  -0.62488328\n",
      "  0.08118936]\n"
     ]
    },
    {
     "name": "stderr",
     "output_type": "stream",
     "text": [
      "c:\\Users\\Cristian\\AppData\\Local\\Programs\\Python\\Python310\\lib\\site-packages\\IPython\\core\\pylabtools.py:151: UserWarning: This figure includes Axes that are not compatible with tight_layout, so results might be incorrect.\n",
      "  fig.canvas.print_figure(bytes_io, **kw)\n"
     ]
    },
    {
     "data": {
      "image/png": "[encoded data removed]",
      "text/plain": [
       "<Figure size 800x550 with 1 Axes>"
      ]
     },
     "metadata": {},
     "output_type": "display_data"
    }
   ],
   "source": [
    "import matplotlib.pyplot as plt\n",
    "\n",
    "plt.style.use('seaborn-v0_8')\n",
    "fig = plt.figure()\n",
    "ax = plt.axes()\n",
    "\n",
    "data_to_plot = SVM_difference\n",
    "#remove nan values\n",
    "#remove outliers from data\n",
    "#data_to_plot = data_to_plot[data_to_plot.between(data_to_plot.quantile(.5), data_to_plot.quantile(.95))]\n",
    "\n",
    "print(data_to_plot)\n",
    "\n",
    "# plot normally\n",
    "plt.rcParams[\"figure.figsize\"] = [10.50, 3.50]\n",
    "plt.rcParams[\"figure.autolayout\"] = True\n",
    "plt.axhline(y=0, color='orange', linestyle='-', zorder=2)\n",
    "plt.plot(data_to_plot, zorder=1)\n",
    "plt.legend(['Truth value',], loc='lower right', )\n",
    "\n",
    "plt.title('Time difference between predicted time and actual time (SVM)')\n",
    "plt.xlabel('Entries')\n",
    "plt.ylabel('Time difference (s)')\n",
    "plt.show()\n"
   ]
  },
  {
   "cell_type": "code",
   "execution_count": 87,
   "metadata": {},
   "outputs": [],
   "source": [
    "\n",
    "# importing the libraries\n",
    "from keras.models import Sequential\n",
    "from keras.layers import Dense"
   ]
  },
  {
   "cell_type": "code",
   "execution_count": 88,
   "metadata": {},
   "outputs": [],
   "source": [
    "clear_session()"
   ]
  },
  {
   "cell_type": "code",
   "execution_count": 89,
   "metadata": {},
   "outputs": [],
   "source": [
    "# create ANN model\n",
    "model = Sequential()\n",
    "model.add(layers.Dense(10, input_dim=x_train.shape[1], activation='relu'))\n",
    "model.add(layers.Dense(4))\n",
    "\n",
    "\n",
    "model.add(layers.Dense(1, activation='sigmoid'))\n",
    "\n",
    "\n",
    "#model.compile(loss = 'binary_crossentropy', optimizer='rmsprop' metrics = ['accuracy'], )\n",
    "model.compile(loss = 'binary_crossentropy', optimizer='adam', metrics = ['accuracy'])\n",
    "\n"
   ]
  },
  {
   "cell_type": "code",
   "execution_count": 91,
   "metadata": {},
   "outputs": [
    {
     "name": "stdout",
     "output_type": "stream",
     "text": [
      "Epoch 1/20\n",
      "3381/3381 [==============================] - 4s 1ms/step - loss: 0.0893 - accuracy: 0.0115 - val_loss: 0.2580 - val_accuracy: 0.0099\n",
      "Epoch 2/20\n",
      "3381/3381 [==============================] - 4s 1ms/step - loss: 0.0890 - accuracy: 0.0115 - val_loss: 0.2479 - val_accuracy: 0.0099\n",
      "Epoch 3/20\n",
      "3381/3381 [==============================] - 4s 1ms/step - loss: 0.0887 - accuracy: 0.0115 - val_loss: 0.2729 - val_accuracy: 0.0099\n",
      "Epoch 4/20\n",
      "3381/3381 [==============================] - 4s 1ms/step - loss: 0.0884 - accuracy: 0.0115 - val_loss: 0.2842 - val_accuracy: 0.0099\n",
      "Epoch 5/20\n",
      "3381/3381 [==============================] - 4s 1ms/step - loss: 0.0883 - accuracy: 0.0115 - val_loss: 0.2666 - val_accuracy: 0.0099\n",
      "Epoch 6/20\n",
      "3381/3381 [==============================] - 4s 1ms/step - loss: 0.0884 - accuracy: 0.0115 - val_loss: 0.2735 - val_accuracy: 0.0099\n",
      "Epoch 7/20\n",
      "3381/3381 [==============================] - 4s 1ms/step - loss: 0.0882 - accuracy: 0.0115 - val_loss: 0.2792 - val_accuracy: 0.0099\n",
      "Epoch 8/20\n",
      "3381/3381 [==============================] - 4s 1ms/step - loss: 0.0881 - accuracy: 0.0115 - val_loss: 0.2749 - val_accuracy: 0.0099\n",
      "Epoch 9/20\n",
      "3381/3381 [==============================] - 4s 1ms/step - loss: 0.0882 - accuracy: 0.0115 - val_loss: 0.2792 - val_accuracy: 0.0099\n",
      "Epoch 10/20\n",
      "3381/3381 [==============================] - 4s 1ms/step - loss: 0.0881 - accuracy: 0.0115 - val_loss: 0.2760 - val_accuracy: 0.0099\n",
      "Epoch 11/20\n",
      "3381/3381 [==============================] - 4s 1ms/step - loss: 0.0880 - accuracy: 0.0115 - val_loss: 0.2738 - val_accuracy: 0.0099\n",
      "Epoch 12/20\n",
      "3381/3381 [==============================] - 4s 1ms/step - loss: 0.0881 - accuracy: 0.0115 - val_loss: 0.2697 - val_accuracy: 0.0099\n",
      "Epoch 13/20\n",
      "3381/3381 [==============================] - 4s 1ms/step - loss: 0.0881 - accuracy: 0.0115 - val_loss: 0.2884 - val_accuracy: 0.0099\n",
      "Epoch 14/20\n",
      "3381/3381 [==============================] - 4s 1ms/step - loss: 0.0880 - accuracy: 0.0115 - val_loss: 0.2750 - val_accuracy: 0.0099\n",
      "Epoch 15/20\n",
      "3381/3381 [==============================] - 4s 1ms/step - loss: 0.0880 - accuracy: 0.0115 - val_loss: 0.2777 - val_accuracy: 0.0099\n",
      "Epoch 16/20\n",
      "3381/3381 [==============================] - 4s 1ms/step - loss: 0.0879 - accuracy: 0.0115 - val_loss: 0.2772 - val_accuracy: 0.0099\n",
      "Epoch 17/20\n",
      "3381/3381 [==============================] - 4s 1ms/step - loss: 0.0879 - accuracy: 0.0115 - val_loss: 0.2772 - val_accuracy: 0.0099\n",
      "Epoch 18/20\n",
      "3381/3381 [==============================] - 4s 1ms/step - loss: 0.0879 - accuracy: 0.0115 - val_loss: 0.2863 - val_accuracy: 0.0099\n",
      "Epoch 19/20\n",
      "3381/3381 [==============================] - 4s 1ms/step - loss: 0.0879 - accuracy: 0.0115 - val_loss: 0.2848 - val_accuracy: 0.0099\n",
      "Epoch 20/20\n",
      "3381/3381 [==============================] - 4s 1ms/step - loss: 0.0878 - accuracy: 0.0115 - val_loss: 0.2656 - val_accuracy: 0.0099\n"
     ]
    }
   ],
   "source": [
    "# Fitting the ANN to the Training set\n",
    "history = model.fit(x_train, y_train, batch_size=10, epochs=20, verbose= 1, validation_data=(x_test, y_test))"
   ]
  },
  {
   "cell_type": "code",
   "execution_count": null,
   "metadata": {},
   "outputs": [],
   "source": []
  },
  {
   "cell_type": "code",
   "execution_count": 93,
   "metadata": {},
   "outputs": [
    {
     "name": "stdout",
     "output_type": "stream",
     "text": [
      "475/475 [==============================] - 0s 648us/step\n",
      "NN metrics\n",
      "Mean absolute error = 0.05\n",
      "Mean squared error = 0.02\n",
      "Median absolute error = 0.0\n",
      "Explain variance score = -0.1\n",
      "R2 score = -0.12\n",
      "Z score = -3.490125e-08\n"
     ]
    }
   ],
   "source": [
    "nn_y_test = model.predict(x_test)\n",
    "\n",
    "print(\"NN metrics\")\n",
    "print(\"Mean absolute error =\", round(sm.mean_absolute_error(y_test, nn_y_test), 2)) \n",
    "print(\"Mean squared error =\", round(sm.mean_squared_error(y_test, nn_y_test), 2)) \n",
    "print(\"Median absolute error =\", round(sm.median_absolute_error(y_test, nn_y_test), 2)) \n",
    "print(\"Explain variance score =\", round(sm.explained_variance_score(y_test, nn_y_test), 2)) \n",
    "print(\"R2 score =\", round(sm.r2_score(y_test, nn_y_test), 2))\n",
    "print(\"Z score =\",  np.average(stats.zscore(nn_y_test)))"
   ]
  },
  {
   "cell_type": "code",
   "execution_count": 105,
   "metadata": {},
   "outputs": [
    {
     "name": "stdout",
     "output_type": "stream",
     "text": [
      "<class 'list'>\n"
     ]
    }
   ],
   "source": [
    "print(type(nn_y_test))"
   ]
  },
  {
   "cell_type": "code",
   "execution_count": 107,
   "metadata": {},
   "outputs": [],
   "source": [
    "nn_y_test = np.array(nn_y_test)"
   ]
  },
  {
   "cell_type": "code",
   "execution_count": 109,
   "metadata": {},
   "outputs": [
    {
     "name": "stdout",
     "output_type": "stream",
     "text": [
      "<class 'numpy.ndarray'>\n"
     ]
    }
   ],
   "source": [
    "print(nn_y_test)"
   ]
  },
  {
   "cell_type": "code",
   "execution_count": 108,
   "metadata": {},
   "outputs": [
    {
     "ename": "IndexError",
     "evalue": "invalid index to scalar variable.",
     "output_type": "error",
     "traceback": [
      "\u001b[1;31m---------------------------------------------------------------------------\u001b[0m",
      "\u001b[1;31mIndexError\u001b[0m                                Traceback (most recent call last)",
      "\u001b[1;32mc:\\Users\\Cristian\\Desktop\\Q3\\ProcessMining\\ProcessMining\\sprint3_time_predictor.ipynb Cell 32\u001b[0m in \u001b[0;36m3\n\u001b[0;32m      <a href='vscode-notebook-cell:/c%3A/Users/Cristian/Desktop/Q3/ProcessMining/ProcessMining/sprint3_time_predictor.ipynb#X55sZmlsZQ%3D%3D?line=0'>1</a>\u001b[0m real_nn_y_test \u001b[39m=\u001b[39m []\n\u001b[0;32m      <a href='vscode-notebook-cell:/c%3A/Users/Cristian/Desktop/Q3/ProcessMining/ProcessMining/sprint3_time_predictor.ipynb#X55sZmlsZQ%3D%3D?line=1'>2</a>\u001b[0m \u001b[39mfor\u001b[39;00m entry \u001b[39min\u001b[39;00m nn_y_test:\n\u001b[1;32m----> <a href='vscode-notebook-cell:/c%3A/Users/Cristian/Desktop/Q3/ProcessMining/ProcessMining/sprint3_time_predictor.ipynb#X55sZmlsZQ%3D%3D?line=2'>3</a>\u001b[0m     real_nn_y_test\u001b[39m.\u001b[39mappend(entry[\u001b[39m0\u001b[39;49m])\n\u001b[0;32m      <a href='vscode-notebook-cell:/c%3A/Users/Cristian/Desktop/Q3/ProcessMining/ProcessMining/sprint3_time_predictor.ipynb#X55sZmlsZQ%3D%3D?line=3'>4</a>\u001b[0m nn_y_test \u001b[39m=\u001b[39m real_nn_y_test\n\u001b[0;32m      <a href='vscode-notebook-cell:/c%3A/Users/Cristian/Desktop/Q3/ProcessMining/ProcessMining/sprint3_time_predictor.ipynb#X55sZmlsZQ%3D%3D?line=4'>5</a>\u001b[0m \u001b[39mprint\u001b[39m(nn_y_test)\n",
      "\u001b[1;31mIndexError\u001b[0m: invalid index to scalar variable."
     ]
    }
   ],
   "source": [
    "real_nn_y_test = []\n",
    "for entry in nn_y_test:\n",
    "    real_nn_y_test.append(entry[0])\n",
    "nn_y_test = real_nn_y_test\n",
    "print(nn_y_test)"
   ]
  },
  {
   "cell_type": "code",
   "execution_count": 101,
   "metadata": {},
   "outputs": [
    {
     "name": "stdout",
     "output_type": "stream",
     "text": [
      "(15179, 15179)\n",
      "<class 'numpy.ndarray'>\n"
     ]
    }
   ],
   "source": [
    "NN_difference = nn_y_test - y_test\n",
    "print(NN_difference.shape)\n",
    "print(type(NN_difference))"
   ]
  },
  {
   "cell_type": "code",
   "execution_count": 99,
   "metadata": {},
   "outputs": [
    {
     "name": "stdout",
     "output_type": "stream",
     "text": [
      "[[ 1.22130009e-06 -1.31039759e-05 -9.54093056e-03 ... -1.85856284e-03\n",
      "  -7.25135153e-01 -2.28676135e-05]\n",
      " [ 7.80586525e-05  6.37333765e-05 -9.46409321e-03 ... -1.78172549e-03\n",
      "  -7.25058315e-01  5.39697389e-05]\n",
      " [-1.01525806e-07 -1.44268018e-05 -9.54225339e-03 ... -1.85988567e-03\n",
      "  -7.25136476e-01 -2.41904394e-05]\n",
      " ...\n",
      " [ 1.48059780e-03  1.46627252e-03 -8.06155407e-03 ... -3.79186347e-04\n",
      "  -7.23655776e-01  1.45650888e-03]\n",
      " [ 3.65348001e-02  3.65204748e-02  2.69926482e-02 ...  3.46750160e-02\n",
      "  -6.88601574e-01  3.65107112e-02]\n",
      " [ 1.38053859e-03  1.36621332e-03 -8.16161327e-03 ... -4.79245549e-04\n",
      "  -7.23755835e-01  1.35644968e-03]]\n"
     ]
    },
    {
     "ename": "KeyboardInterrupt",
     "evalue": "",
     "output_type": "error",
     "traceback": [
      "\u001b[1;31m---------------------------------------------------------------------------\u001b[0m",
      "\u001b[1;31mKeyboardInterrupt\u001b[0m                         Traceback (most recent call last)",
      "\u001b[1;32mc:\\Users\\Cristian\\Desktop\\Q3\\ProcessMining\\ProcessMining\\sprint3_time_predictor.ipynb Cell 31\u001b[0m in \u001b[0;36m1\n\u001b[0;32m     <a href='vscode-notebook-cell:/c%3A/Users/Cristian/Desktop/Q3/ProcessMining/ProcessMining/sprint3_time_predictor.ipynb#X54sZmlsZQ%3D%3D?line=15'>16</a>\u001b[0m plt\u001b[39m.\u001b[39mrcParams[\u001b[39m\"\u001b[39m\u001b[39mfigure.autolayout\u001b[39m\u001b[39m\"\u001b[39m] \u001b[39m=\u001b[39m \u001b[39mTrue\u001b[39;00m\n\u001b[0;32m     <a href='vscode-notebook-cell:/c%3A/Users/Cristian/Desktop/Q3/ProcessMining/ProcessMining/sprint3_time_predictor.ipynb#X54sZmlsZQ%3D%3D?line=16'>17</a>\u001b[0m plt\u001b[39m.\u001b[39maxhline(y\u001b[39m=\u001b[39m\u001b[39m0\u001b[39m, color\u001b[39m=\u001b[39m\u001b[39m'\u001b[39m\u001b[39morange\u001b[39m\u001b[39m'\u001b[39m, linestyle\u001b[39m=\u001b[39m\u001b[39m'\u001b[39m\u001b[39m-\u001b[39m\u001b[39m'\u001b[39m, zorder\u001b[39m=\u001b[39m\u001b[39m2\u001b[39m)\n\u001b[1;32m---> <a href='vscode-notebook-cell:/c%3A/Users/Cristian/Desktop/Q3/ProcessMining/ProcessMining/sprint3_time_predictor.ipynb#X54sZmlsZQ%3D%3D?line=17'>18</a>\u001b[0m plt\u001b[39m.\u001b[39;49mplot(data_to_plot, zorder\u001b[39m=\u001b[39;49m\u001b[39m1\u001b[39;49m)\n\u001b[0;32m     <a href='vscode-notebook-cell:/c%3A/Users/Cristian/Desktop/Q3/ProcessMining/ProcessMining/sprint3_time_predictor.ipynb#X54sZmlsZQ%3D%3D?line=18'>19</a>\u001b[0m plt\u001b[39m.\u001b[39mlegend([\u001b[39m'\u001b[39m\u001b[39mTruth value\u001b[39m\u001b[39m'\u001b[39m,], loc\u001b[39m=\u001b[39m\u001b[39m'\u001b[39m\u001b[39mlower right\u001b[39m\u001b[39m'\u001b[39m, )\n\u001b[0;32m     <a href='vscode-notebook-cell:/c%3A/Users/Cristian/Desktop/Q3/ProcessMining/ProcessMining/sprint3_time_predictor.ipynb#X54sZmlsZQ%3D%3D?line=20'>21</a>\u001b[0m plt\u001b[39m.\u001b[39mtitle(\u001b[39m'\u001b[39m\u001b[39mTime difference between predicted time and actual time (NN)\u001b[39m\u001b[39m'\u001b[39m)\n",
      "File \u001b[1;32mc:\\Users\\Cristian\\AppData\\Local\\Programs\\Python\\Python310\\lib\\site-packages\\matplotlib\\pyplot.py:2728\u001b[0m, in \u001b[0;36mplot\u001b[1;34m(scalex, scaley, data, *args, **kwargs)\u001b[0m\n\u001b[0;32m   2726\u001b[0m \u001b[39m@_copy_docstring_and_deprecators\u001b[39m(Axes\u001b[39m.\u001b[39mplot)\n\u001b[0;32m   2727\u001b[0m \u001b[39mdef\u001b[39;00m \u001b[39mplot\u001b[39m(\u001b[39m*\u001b[39margs, scalex\u001b[39m=\u001b[39m\u001b[39mTrue\u001b[39;00m, scaley\u001b[39m=\u001b[39m\u001b[39mTrue\u001b[39;00m, data\u001b[39m=\u001b[39m\u001b[39mNone\u001b[39;00m, \u001b[39m*\u001b[39m\u001b[39m*\u001b[39mkwargs):\n\u001b[1;32m-> 2728\u001b[0m     \u001b[39mreturn\u001b[39;00m gca()\u001b[39m.\u001b[39mplot(\n\u001b[0;32m   2729\u001b[0m         \u001b[39m*\u001b[39margs, scalex\u001b[39m=\u001b[39mscalex, scaley\u001b[39m=\u001b[39mscaley,\n\u001b[0;32m   2730\u001b[0m         \u001b[39m*\u001b[39m\u001b[39m*\u001b[39m({\u001b[39m\"\u001b[39m\u001b[39mdata\u001b[39m\u001b[39m\"\u001b[39m: data} \u001b[39mif\u001b[39;00m data \u001b[39mis\u001b[39;00m \u001b[39mnot\u001b[39;00m \u001b[39mNone\u001b[39;00m \u001b[39melse\u001b[39;00m {}), \u001b[39m*\u001b[39m\u001b[39m*\u001b[39mkwargs)\n",
      "File \u001b[1;32mc:\\Users\\Cristian\\AppData\\Local\\Programs\\Python\\Python310\\lib\\site-packages\\matplotlib\\axes\\_axes.py:1662\u001b[0m, in \u001b[0;36mAxes.plot\u001b[1;34m(self, scalex, scaley, data, *args, **kwargs)\u001b[0m\n\u001b[0;32m   1419\u001b[0m \u001b[39m\"\"\"\u001b[39;00m\n\u001b[0;32m   1420\u001b[0m \u001b[39mPlot y versus x as lines and/or markers.\u001b[39;00m\n\u001b[0;32m   1421\u001b[0m \n\u001b[1;32m   (...)\u001b[0m\n\u001b[0;32m   1659\u001b[0m \u001b[39m(``'green'``) or hex strings (``'#008000'``).\u001b[39;00m\n\u001b[0;32m   1660\u001b[0m \u001b[39m\"\"\"\u001b[39;00m\n\u001b[0;32m   1661\u001b[0m kwargs \u001b[39m=\u001b[39m cbook\u001b[39m.\u001b[39mnormalize_kwargs(kwargs, mlines\u001b[39m.\u001b[39mLine2D)\n\u001b[1;32m-> 1662\u001b[0m lines \u001b[39m=\u001b[39m [\u001b[39m*\u001b[39m\u001b[39mself\u001b[39m\u001b[39m.\u001b[39m_get_lines(\u001b[39m*\u001b[39margs, data\u001b[39m=\u001b[39mdata, \u001b[39m*\u001b[39m\u001b[39m*\u001b[39mkwargs)]\n\u001b[0;32m   1663\u001b[0m \u001b[39mfor\u001b[39;00m line \u001b[39min\u001b[39;00m lines:\n\u001b[0;32m   1664\u001b[0m     \u001b[39mself\u001b[39m\u001b[39m.\u001b[39madd_line(line)\n",
      "File \u001b[1;32mc:\\Users\\Cristian\\AppData\\Local\\Programs\\Python\\Python310\\lib\\site-packages\\matplotlib\\axes\\_base.py:311\u001b[0m, in \u001b[0;36m_process_plot_var_args.__call__\u001b[1;34m(self, data, *args, **kwargs)\u001b[0m\n\u001b[0;32m    309\u001b[0m     this \u001b[39m+\u001b[39m\u001b[39m=\u001b[39m args[\u001b[39m0\u001b[39m],\n\u001b[0;32m    310\u001b[0m     args \u001b[39m=\u001b[39m args[\u001b[39m1\u001b[39m:]\n\u001b[1;32m--> 311\u001b[0m \u001b[39myield from\u001b[39;00m \u001b[39mself\u001b[39;49m\u001b[39m.\u001b[39;49m_plot_args(\n\u001b[0;32m    312\u001b[0m     this, kwargs, ambiguous_fmt_datakey\u001b[39m=\u001b[39;49mambiguous_fmt_datakey)\n",
      "File \u001b[1;32mc:\\Users\\Cristian\\AppData\\Local\\Programs\\Python\\Python310\\lib\\site-packages\\matplotlib\\axes\\_base.py:544\u001b[0m, in \u001b[0;36m_process_plot_var_args._plot_args\u001b[1;34m(self, tup, kwargs, return_kwargs, ambiguous_fmt_datakey)\u001b[0m\n\u001b[0;32m    542\u001b[0m     \u001b[39mreturn\u001b[39;00m \u001b[39mlist\u001b[39m(result)\n\u001b[0;32m    543\u001b[0m \u001b[39melse\u001b[39;00m:\n\u001b[1;32m--> 544\u001b[0m     \u001b[39mreturn\u001b[39;00m [l[\u001b[39m0\u001b[39m] \u001b[39mfor\u001b[39;00m l \u001b[39min\u001b[39;00m result]\n",
      "File \u001b[1;32mc:\\Users\\Cristian\\AppData\\Local\\Programs\\Python\\Python310\\lib\\site-packages\\matplotlib\\axes\\_base.py:544\u001b[0m, in \u001b[0;36m<listcomp>\u001b[1;34m(.0)\u001b[0m\n\u001b[0;32m    542\u001b[0m     \u001b[39mreturn\u001b[39;00m \u001b[39mlist\u001b[39m(result)\n\u001b[0;32m    543\u001b[0m \u001b[39melse\u001b[39;00m:\n\u001b[1;32m--> 544\u001b[0m     \u001b[39mreturn\u001b[39;00m [l[\u001b[39m0\u001b[39m] \u001b[39mfor\u001b[39;00m l \u001b[39min\u001b[39;00m result]\n",
      "File \u001b[1;32mc:\\Users\\Cristian\\AppData\\Local\\Programs\\Python\\Python310\\lib\\site-packages\\matplotlib\\axes\\_base.py:537\u001b[0m, in \u001b[0;36m<genexpr>\u001b[1;34m(.0)\u001b[0m\n\u001b[0;32m    534\u001b[0m \u001b[39melse\u001b[39;00m:\n\u001b[0;32m    535\u001b[0m     labels \u001b[39m=\u001b[39m [label] \u001b[39m*\u001b[39m n_datasets\n\u001b[1;32m--> 537\u001b[0m result \u001b[39m=\u001b[39m (make_artist(x[:, j \u001b[39m%\u001b[39;49m ncx], y[:, j \u001b[39m%\u001b[39;49m ncy], kw,\n\u001b[0;32m    538\u001b[0m                       {\u001b[39m*\u001b[39;49m\u001b[39m*\u001b[39;49mkwargs, \u001b[39m'\u001b[39;49m\u001b[39mlabel\u001b[39;49m\u001b[39m'\u001b[39;49m: label})\n\u001b[0;32m    539\u001b[0m           \u001b[39mfor\u001b[39;00m j, label \u001b[39min\u001b[39;00m \u001b[39menumerate\u001b[39m(labels))\n\u001b[0;32m    541\u001b[0m \u001b[39mif\u001b[39;00m return_kwargs:\n\u001b[0;32m    542\u001b[0m     \u001b[39mreturn\u001b[39;00m \u001b[39mlist\u001b[39m(result)\n",
      "File \u001b[1;32mc:\\Users\\Cristian\\AppData\\Local\\Programs\\Python\\Python310\\lib\\site-packages\\matplotlib\\axes\\_base.py:351\u001b[0m, in \u001b[0;36m_process_plot_var_args._makeline\u001b[1;34m(self, x, y, kw, kwargs)\u001b[0m\n\u001b[0;32m    349\u001b[0m default_dict \u001b[39m=\u001b[39m \u001b[39mself\u001b[39m\u001b[39m.\u001b[39m_getdefaults(\u001b[39mset\u001b[39m(), kw)\n\u001b[0;32m    350\u001b[0m \u001b[39mself\u001b[39m\u001b[39m.\u001b[39m_setdefaults(default_dict, kw)\n\u001b[1;32m--> 351\u001b[0m seg \u001b[39m=\u001b[39m mlines\u001b[39m.\u001b[39mLine2D(x, y, \u001b[39m*\u001b[39m\u001b[39m*\u001b[39mkw)\n\u001b[0;32m    352\u001b[0m \u001b[39mreturn\u001b[39;00m seg, kw\n",
      "File \u001b[1;32mc:\\Users\\Cristian\\AppData\\Local\\Programs\\Python\\Python310\\lib\\site-packages\\matplotlib\\_api\\deprecation.py:454\u001b[0m, in \u001b[0;36mmake_keyword_only.<locals>.wrapper\u001b[1;34m(*args, **kwargs)\u001b[0m\n\u001b[0;32m    448\u001b[0m \u001b[39mif\u001b[39;00m \u001b[39mlen\u001b[39m(args) \u001b[39m>\u001b[39m name_idx:\n\u001b[0;32m    449\u001b[0m     warn_deprecated(\n\u001b[0;32m    450\u001b[0m         since, message\u001b[39m=\u001b[39m\u001b[39m\"\u001b[39m\u001b[39mPassing the \u001b[39m\u001b[39m%(name)s\u001b[39;00m\u001b[39m \u001b[39m\u001b[39m%(obj_type)s\u001b[39;00m\u001b[39m \u001b[39m\u001b[39m\"\u001b[39m\n\u001b[0;32m    451\u001b[0m         \u001b[39m\"\u001b[39m\u001b[39mpositionally is deprecated since Matplotlib \u001b[39m\u001b[39m%(since)s\u001b[39;00m\u001b[39m; the \u001b[39m\u001b[39m\"\u001b[39m\n\u001b[0;32m    452\u001b[0m         \u001b[39m\"\u001b[39m\u001b[39mparameter will become keyword-only \u001b[39m\u001b[39m%(removal)s\u001b[39;00m\u001b[39m.\u001b[39m\u001b[39m\"\u001b[39m,\n\u001b[0;32m    453\u001b[0m         name\u001b[39m=\u001b[39mname, obj_type\u001b[39m=\u001b[39m\u001b[39mf\u001b[39m\u001b[39m\"\u001b[39m\u001b[39mparameter of \u001b[39m\u001b[39m{\u001b[39;00mfunc\u001b[39m.\u001b[39m\u001b[39m__name__\u001b[39m\u001b[39m}\u001b[39;00m\u001b[39m()\u001b[39m\u001b[39m\"\u001b[39m)\n\u001b[1;32m--> 454\u001b[0m \u001b[39mreturn\u001b[39;00m func(\u001b[39m*\u001b[39margs, \u001b[39m*\u001b[39m\u001b[39m*\u001b[39mkwargs)\n",
      "File \u001b[1;32mc:\\Users\\Cristian\\AppData\\Local\\Programs\\Python\\Python310\\lib\\site-packages\\matplotlib\\lines.py:412\u001b[0m, in \u001b[0;36mLine2D.__init__\u001b[1;34m(self, xdata, ydata, linewidth, linestyle, color, gapcolor, marker, markersize, markeredgewidth, markeredgecolor, markerfacecolor, markerfacecoloralt, fillstyle, antialiased, dash_capstyle, solid_capstyle, dash_joinstyle, solid_joinstyle, pickradius, drawstyle, markevery, **kwargs)\u001b[0m\n\u001b[0;32m    409\u001b[0m \u001b[39mself\u001b[39m\u001b[39m.\u001b[39m_subslice \u001b[39m=\u001b[39m \u001b[39mFalse\u001b[39;00m\n\u001b[0;32m    410\u001b[0m \u001b[39mself\u001b[39m\u001b[39m.\u001b[39m_x_filled \u001b[39m=\u001b[39m \u001b[39mNone\u001b[39;00m  \u001b[39m# used in subslicing; only x is needed\u001b[39;00m\n\u001b[1;32m--> 412\u001b[0m \u001b[39mself\u001b[39;49m\u001b[39m.\u001b[39;49mset_data(xdata, ydata)\n",
      "File \u001b[1;32mc:\\Users\\Cristian\\AppData\\Local\\Programs\\Python\\Python310\\lib\\site-packages\\matplotlib\\lines.py:651\u001b[0m, in \u001b[0;36mLine2D.set_data\u001b[1;34m(self, *args)\u001b[0m\n\u001b[0;32m    648\u001b[0m     x, y \u001b[39m=\u001b[39m args\n\u001b[0;32m    650\u001b[0m \u001b[39mself\u001b[39m\u001b[39m.\u001b[39mset_xdata(x)\n\u001b[1;32m--> 651\u001b[0m \u001b[39mself\u001b[39;49m\u001b[39m.\u001b[39;49mset_ydata(y)\n",
      "File \u001b[1;32mc:\\Users\\Cristian\\AppData\\Local\\Programs\\Python\\Python310\\lib\\site-packages\\matplotlib\\lines.py:1291\u001b[0m, in \u001b[0;36mLine2D.set_ydata\u001b[1;34m(self, y)\u001b[0m\n\u001b[0;32m   1283\u001b[0m \u001b[39mdef\u001b[39;00m \u001b[39mset_ydata\u001b[39m(\u001b[39mself\u001b[39m, y):\n\u001b[0;32m   1284\u001b[0m     \u001b[39m\"\"\"\u001b[39;00m\n\u001b[0;32m   1285\u001b[0m \u001b[39m    Set the data array for y.\u001b[39;00m\n\u001b[0;32m   1286\u001b[0m \n\u001b[1;32m   (...)\u001b[0m\n\u001b[0;32m   1289\u001b[0m \u001b[39m    y : 1D array\u001b[39;00m\n\u001b[0;32m   1290\u001b[0m \u001b[39m    \"\"\"\u001b[39;00m\n\u001b[1;32m-> 1291\u001b[0m     \u001b[39mself\u001b[39m\u001b[39m.\u001b[39m_yorig \u001b[39m=\u001b[39m copy\u001b[39m.\u001b[39;49mcopy(y)\n\u001b[0;32m   1292\u001b[0m     \u001b[39mself\u001b[39m\u001b[39m.\u001b[39m_invalidy \u001b[39m=\u001b[39m \u001b[39mTrue\u001b[39;00m\n\u001b[0;32m   1293\u001b[0m     \u001b[39mself\u001b[39m\u001b[39m.\u001b[39mstale \u001b[39m=\u001b[39m \u001b[39mTrue\u001b[39;00m\n",
      "File \u001b[1;32mc:\\Users\\Cristian\\AppData\\Local\\Programs\\Python\\Python310\\lib\\copy.py:84\u001b[0m, in \u001b[0;36mcopy\u001b[1;34m(x)\u001b[0m\n\u001b[0;32m     82\u001b[0m copier \u001b[39m=\u001b[39m \u001b[39mgetattr\u001b[39m(\u001b[39mcls\u001b[39m, \u001b[39m\"\u001b[39m\u001b[39m__copy__\u001b[39m\u001b[39m\"\u001b[39m, \u001b[39mNone\u001b[39;00m)\n\u001b[0;32m     83\u001b[0m \u001b[39mif\u001b[39;00m copier \u001b[39mis\u001b[39;00m \u001b[39mnot\u001b[39;00m \u001b[39mNone\u001b[39;00m:\n\u001b[1;32m---> 84\u001b[0m     \u001b[39mreturn\u001b[39;00m copier(x)\n\u001b[0;32m     86\u001b[0m reductor \u001b[39m=\u001b[39m dispatch_table\u001b[39m.\u001b[39mget(\u001b[39mcls\u001b[39m)\n\u001b[0;32m     87\u001b[0m \u001b[39mif\u001b[39;00m reductor \u001b[39mis\u001b[39;00m \u001b[39mnot\u001b[39;00m \u001b[39mNone\u001b[39;00m:\n",
      "\u001b[1;31mKeyboardInterrupt\u001b[0m: "
     ]
    },
    {
     "name": "stderr",
     "output_type": "stream",
     "text": [
      "c:\\Users\\Cristian\\AppData\\Local\\Programs\\Python\\Python310\\lib\\site-packages\\IPython\\core\\pylabtools.py:151: UserWarning: This figure includes Axes that are not compatible with tight_layout, so results might be incorrect.\n",
      "  fig.canvas.print_figure(bytes_io, **kw)\n"
     ]
    },
    {
     "data": {
      "image/png": "[encoded data removed]",
      "text/plain": [
       "<Figure size 800x550 with 1 Axes>"
      ]
     },
     "metadata": {},
     "output_type": "display_data"
    }
   ],
   "source": [
    "import matplotlib.pyplot as plt\n",
    "\n",
    "plt.style.use('seaborn-v0_8')\n",
    "fig = plt.figure()\n",
    "ax = plt.axes()\n",
    "\n",
    "data_to_plot = NN_difference\n",
    "#remove nan values\n",
    "#remove outliers from data\n",
    "#data_to_plot = data_to_plot[data_to_plot.between(data_to_plot.quantile(.5), data_to_plot.quantile(.95))]\n",
    "\n",
    "print(data_to_plot)\n",
    "\n",
    "# plot normally\n",
    "plt.rcParams[\"figure.figsize\"] = [10.50, 3.50]\n",
    "plt.rcParams[\"figure.autolayout\"] = True\n",
    "plt.axhline(y=0, color='orange', linestyle='-', zorder=2)\n",
    "plt.plot(data_to_plot, zorder=1)\n",
    "plt.legend(['Truth value',], loc='lower right', )\n",
    "\n",
    "plt.title('Time difference between predicted time and actual time (NN)')\n",
    "plt.xlabel('Entries')\n",
    "plt.ylabel('Time difference (s)')\n",
    "plt.show()\n"
   ]
  },
  {
   "cell_type": "code",
   "execution_count": 94,
   "metadata": {},
   "outputs": [
    {
     "name": "stdout",
     "output_type": "stream",
     "text": [
      "Training Loss and Accuracy: [0.08797404170036316, 0.011505812406539917]\n",
      "Testing Loss and Accuracy: [0.26555734872817993, 0.009947954677045345]\n"
     ]
    }
   ],
   "source": [
    "loss_and_accuracy = model.evaluate(x_train, y_train, verbose=False)\n",
    "print(\"Training Loss and Accuracy:\", loss_and_accuracy)\n",
    "\n",
    "loss_and_accuracy = model.evaluate(x_test, y_test, verbose=False)\n",
    "print(\"Testing Loss and Accuracy:\", loss_and_accuracy)"
   ]
  },
  {
   "cell_type": "code",
   "execution_count": 95,
   "metadata": {},
   "outputs": [
    {
     "name": "stderr",
     "output_type": "stream",
     "text": [
      "c:\\Users\\Cristian\\AppData\\Local\\Programs\\Python\\Python310\\lib\\site-packages\\IPython\\core\\pylabtools.py:151: UserWarning: This figure includes Axes that are not compatible with tight_layout, so results might be incorrect.\n",
      "  fig.canvas.print_figure(bytes_io, **kw)\n"
     ]
    },
    {
     "data": {
      "image/png": "[encoded data removed]",
      "text/plain": [
       "<Figure size 1050x350 with 1 Axes>"
      ]
     },
     "metadata": {},
     "output_type": "display_data"
    }
   ],
   "source": [
    "plt.plot(history.history['loss'])\n",
    "plt.plot(history.history['val_loss'])\n",
    "plt.title('Model loss')\n",
    "plt.ylabel('Loss')\n",
    "plt.xlabel('Epoch')\n",
    "plt.legend(['Train', 'Test'], loc='upper left')\n",
    "plt.show()"
   ]
  },
  {
   "cell_type": "code",
   "execution_count": 96,
   "metadata": {},
   "outputs": [],
   "source": [
    "\n",
    "import matplotlib.pyplot as plt\n",
    "plt.style.use('ggplot')\n",
    "\n",
    "def plot_history(history):\n",
    "    acc = history.history['accuracy']\n",
    "    val_acc = history.history['val_accuracy']\n",
    "    loss = history.history['loss']\n",
    "    val_loss = history.history['val_loss']\n",
    "    x = range(1, len(acc) + 1)\n",
    "\n",
    "    plt.figure(figsize=(12, 5))\n",
    "    plt.subplot(1, 2, 1)\n",
    "    plt.plot(x, acc, 'b', label='Training acc')\n",
    "    plt.plot(x, val_acc, 'r', label='Validation acc')\n",
    "    plt.title('Training and validation accuracy')\n",
    "    plt.legend()\n",
    "    plt.subplot(1, 2, 2)\n",
    "    plt.plot(x, loss, 'b', label='Training loss')\n",
    "    plt.plot(x, val_loss, 'r', label='Validation loss')\n",
    "    plt.title('Training and validation loss')\n",
    "    plt.legend()"
   ]
  },
  {
   "cell_type": "code",
   "execution_count": null,
   "metadata": {},
   "outputs": [],
   "source": [
    "# Defining a function to find the best parameters for ANN\n",
    "def FunctionFindBestParams(x_train, y_train, x_test, y_test):\n",
    "    \n",
    "    # Defining the list of hyper parameters to try\n",
    "    #batch_size_list=[5, 10, 15, 20]\n",
    "    batch_size_list=[5,10]\n",
    "    #epoch_list  =   [5, 10, 50, 100]\n",
    "    epoch_list = [5,10]\n",
    "    \n",
    "    import pandas as pd\n",
    "    SearchResultsData=pd.DataFrame(columns=['TrialNumber', 'Parameters', 'Accuracy'])\n",
    "    \n",
    "    # initializing the trials\n",
    "    TrialNumber=0\n",
    "    for batch_size_trial in batch_size_list:\n",
    "        for epochs_trial in epoch_list:\n",
    "            TrialNumber+=1\n",
    "            # create ANN model\n",
    "            model = Sequential()\n",
    "            # Defining the first layer of the model\n",
    "            model.add(Dense(units=5, input_dim=x_train.shape[1], kernel_initializer='normal', activation='relu'))\n",
    " \n",
    "            # Defining the Second layer of the model\n",
    "            model.add(Dense(units=5, kernel_initializer='normal', activation='relu'))\n",
    " \n",
    "            # The output neuron is a single fully connected node \n",
    "            # Since we will be predicting a single number\n",
    "            model.add(Dense(1, kernel_initializer='normal'))\n",
    " \n",
    "            # Compiling the model\n",
    "            model.compile(loss='mean_squared_error', optimizer='adam')\n",
    " \n",
    "            # Fitting the ANN to the Training set\n",
    "            model.fit(x_train, y_train ,batch_size = batch_size_trial, epochs = epochs_trial, verbose=0)\n",
    " \n",
    "            error = y_test-model.predict(x_test)\n",
    "            error = np.nan_to_num(error, nan=0, posinf=0, neginf=0)\n",
    "            MAPE = np.mean(100 * (np.abs(error) / y_test))\n",
    "\n",
    "            \n",
    "            \n",
    "            # printing the results of the current iteration\n",
    "            print(TrialNumber, 'Parameters:','batch_size:', batch_size_trial,'-', 'epochs:',epochs_trial, 'Accuracy:', 100-MAPE)\n",
    "            \n",
    "            SearchResultsData.append(pd.DataFrame(data=[[TrialNumber, str(batch_size_trial)+'-'+str(epochs_trial), 100-MAPE]],\n",
    "                                                                    columns=['TrialNumber', 'Parameters', 'Accuracy'] ))\n",
    "    return(SearchResultsData)"
   ]
  },
  {
   "cell_type": "code",
   "execution_count": null,
   "metadata": {},
   "outputs": [],
   "source": [
    "print(y_train)"
   ]
  },
  {
   "cell_type": "code",
   "execution_count": null,
   "metadata": {},
   "outputs": [],
   "source": [
    "# Calling the function\n",
    "ResultsData=FunctionFindBestParams(x_train, y_train, x_test, y_test)"
   ]
  },
  {
   "cell_type": "code",
   "execution_count": null,
   "metadata": {},
   "outputs": [],
   "source": [
    "ResultsData.plot(x='Parameters', y='Accuracy', figsize=(15,4), kind='line')"
   ]
  }
 ],
 "metadata": {
  "kernelspec": {
   "display_name": "Python 3",
   "language": "python",
   "name": "python3"
  },
  "language_info": {
   "codemirror_mode": {
    "name": "ipython",
    "version": 3
   },
   "file_extension": ".py",
   "mimetype": "text/x-python",
   "name": "python",
   "nbconvert_exporter": "python",
   "pygments_lexer": "ipython3",
   "version": "3.10.8"
  },
  "orig_nbformat": 4
 },
 "nbformat": 4,
 "nbformat_minor": 2
}
