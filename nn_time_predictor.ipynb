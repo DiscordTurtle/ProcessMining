{
 "cells": [
  {
   "cell_type": "code",
   "execution_count": 1,
   "metadata": {},
   "outputs": [
    {
     "name": "stdout",
     "output_type": "stream",
     "text": [
      "set the data\n"
     ]
    }
   ],
   "source": [
    "#import libraries\n",
    "import pandas as pd\n",
    "import numpy as np\n",
    "import seaborn as sns\n",
    "import matplotlib.pyplot as plt\n",
    "\n",
    "#import the neccessary module\n",
    "from helper import Model\n",
    "from helper import Auxiliary\n",
    "\n",
    "# Modelling\n",
    "from keras.models import Sequential\n",
    "from keras import layers\n",
    "from keras.backend import clear_session"
   ]
  },
  {
   "cell_type": "code",
   "execution_count": 2,
   "metadata": {},
   "outputs": [
    {
     "name": "stdout",
     "output_type": "stream",
     "text": [
      "Start preprocessing data\n",
      "Finished preprocessing data\n",
      "Start preprocessing data\n",
      "Finished preprocessing data\n"
     ]
    }
   ],
   "source": [
    "#df_train, df_test = Auxiliary.train_test_split(Auxiliary.preprocess_data(Model.get_csv('BPI_Challenge_2012.csv')))\n",
    "#read the data set\n",
    "df_train = Auxiliary.preprocess_data(Model.get_csv('BPI_Challenge_2012_train.csv'))\n",
    "df_test = Auxiliary.preprocess_data(Model.get_csv('BPI_Challenge_2012_test.csv'))"
   ]
  },
  {
   "cell_type": "code",
   "execution_count": 3,
   "metadata": {},
   "outputs": [],
   "source": [
    "\n",
    "# encode the concept:name as integer values\n",
    "df_encoded_train = df_train.copy()\n",
    "\n",
    "lengthOfDf = len(df_encoded_train.index)\n",
    "\n",
    "#add a new column with the position of each case\n",
    "df_encoded_train.at[0, 'position'] = 1\n",
    "j = 2\n",
    "for i in range(1, lengthOfDf):\n",
    "    if df_encoded_train.at[i, 'case:concept:name'] == df_encoded_train.at[i - 1, 'case:concept:name']:\n",
    "        df_encoded_train.at[i, 'position'] = j\n",
    "        j = j + 1\n",
    "    else :\n",
    "        df_encoded_train.at[i, 'position'] = 1\n",
    "        j = 2\n",
    "\n",
    "\n",
    "#the mode of the activities at a certain position\n",
    "df_mode = df_encoded_train.groupby('position')['concept:name'].agg(pd.Series.mode)\n",
    "\n",
    "#add a new column with the predicted time of each case and the ground truth\n",
    "for i in range(lengthOfDf - 1):\n",
    "    if df_encoded_train.at[i, 'position'] + 1 <= len(df_mode.index):\n",
    "        if (df_encoded_train.at[i + 1, 'position']) == 1:\n",
    "            df_encoded_train.at[i, 'Next time'] = 0\n",
    "        else:\n",
    "            df_encoded_train.at[i, 'Next time'] = Model.get_time_difference_as_number(df_encoded_train.at[i, 'time:timestamp'], df_encoded_train.at[i + 1, 'time:timestamp'])\n"
   ]
  },
  {
   "cell_type": "code",
   "execution_count": 4,
   "metadata": {},
   "outputs": [],
   "source": [
    "\n",
    "# encode the concept:name as integer values\n",
    "df_encoded_test = df_test.copy()\n",
    "lengthOfDf = len(df_encoded_test.index)\n",
    "\n",
    "#add a new column with the position of each case\n",
    "df_encoded_test.at[0, 'position'] = 1\n",
    "j = 2\n",
    "for i in range(1, lengthOfDf):\n",
    "    if df_encoded_test.at[i, 'case:concept:name'] == df_encoded_test.at[i - 1, 'case:concept:name']:\n",
    "        df_encoded_test.at[i, 'position'] = j\n",
    "        j = j + 1\n",
    "    else :\n",
    "        df_encoded_test.at[i, 'position'] = 1\n",
    "        j = 2\n",
    "\n",
    "\n",
    "#the mode of the activities at a certain position\n",
    "df_mode = df_encoded_test.groupby('position')['concept:name'].agg(pd.Series.mode)\n",
    "\n",
    "#add a new column with the predicted time of each case and the ground truth\n",
    "for i in range(lengthOfDf - 1):\n",
    "    if df_encoded_test.at[i, 'position'] + 1 <= len(df_mode.index):\n",
    "        if (df_encoded_test.at[i + 1, 'position']) == 1:\n",
    "            df_encoded_test.at[i, 'Next time'] = 0\n",
    "        else:\n",
    "            df_encoded_test.at[i, 'Next time'] = Model.get_time_difference_as_number(df_encoded_test.at[i, 'time:timestamp'], df_encoded_test.at[i + 1, 'time:timestamp'])"
   ]
  },
  {
   "cell_type": "code",
   "execution_count": 5,
   "metadata": {},
   "outputs": [],
   "source": [
    "\n",
    "data_to_drop = ['org:resource', 'lifecycle:transition', 'case:AMOUNT_REQ', 'Next Event', 'case:REG_DATE', 'concept:name', 'case:concept:name', 'time:timestamp', 'position', 'minute',\n",
    "       'second','year', 'month', 'hour']\n",
    "\n",
    "#split the data into training and test sets and drop some data\n",
    "x_train = df_encoded_train.drop(data_to_drop, axis=1)\n",
    "x_train = x_train.drop(['W_Wijzigen contractgegevens'], axis = 1)\n",
    "x_test = df_encoded_test.drop(data_to_drop, axis=1)\n",
    "x_train = x_train.drop(['Next time'], axis=1)\n",
    "x_test = x_test.drop(['Next time'], axis=1)\n",
    "\n",
    "y_train = df_encoded_train['Next time']\n",
    "y_test = df_encoded_test['Next time']\n",
    "\n",
    "#fill all empty values with nan\n",
    "x_train = x_train.replace(r'^\\s*$', np.nan, regex=True)\n",
    "x_test = x_test.replace(r'^\\s*$', np.nan, regex=True)\n",
    "y_train = y_train.replace(r'^\\s*$', np.nan, regex=True)\n",
    "y_test = y_test.replace(r'^\\s*$', np.nan, regex=True)\n",
    "\n",
    "\n",
    "#Fill all nan values with 0\n",
    "x_train = x_train.replace(np.nan,0)\n",
    "x_test = x_test.replace(np.nan,0)\n",
    "y_train = y_train.replace(np.nan,0)\n",
    "y_test = y_test.replace(np.nan,0)\n",
    "\n",
    "\n",
    "\n",
    "\n",
    "\n",
    "x_test = x_test[['A_SUBMITTED', 'A_PARTLYSUBMITTED', 'A_PREACCEPTED',\n",
    "       'W_Completeren aanvraag', 'A_ACCEPTED', 'O_SELECTED', 'A_FINALIZED',\n",
    "       'O_CREATED', 'O_SENT', 'W_Nabellen offertes', 'O_SENT_BACK',\n",
    "       'W_Valideren aanvraag', 'A_REGISTERED', 'A_APPROVED', 'O_ACCEPTED',\n",
    "       'A_ACTIVATED', 'O_CANCELLED', 'A_DECLINED', 'A_CANCELLED',\n",
    "       'W_Afhandelen leads', 'O_DECLINED', 'W_Nabellen incomplete dossiers',\n",
    "       'W_Beoordelen fraude','day']]"
   ]
  },
  {
   "cell_type": "code",
   "execution_count": 6,
   "metadata": {},
   "outputs": [
    {
     "name": "stdout",
     "output_type": "stream",
     "text": [
      "   A_SUBMITTED  A_PARTLYSUBMITTED  A_PREACCEPTED  W_Completeren aanvraag  \\\n",
      "0            1                  0              0                       0   \n",
      "1            0                  1              0                       0   \n",
      "2            0                  0              0                       0   \n",
      "3            0                  0              0                       0   \n",
      "4            0                  0              0                       0   \n",
      "5            0                  0              0                       0   \n",
      "6            1                  0              0                       0   \n",
      "7            0                  1              0                       0   \n",
      "8            0                  0              0                       0   \n",
      "9            0                  0              0                       0   \n",
      "\n",
      "   A_ACCEPTED  O_SELECTED  A_FINALIZED  O_CREATED  O_SENT  \\\n",
      "0           0           0            0          0       0   \n",
      "1           0           0            0          0       0   \n",
      "2           0           0            0          0       0   \n",
      "3           0           0            0          0       0   \n",
      "4           0           0            0          0       0   \n",
      "5           0           0            0          0       0   \n",
      "6           0           0            0          0       0   \n",
      "7           0           0            0          0       0   \n",
      "8           0           0            0          0       0   \n",
      "9           0           0            0          0       0   \n",
      "\n",
      "   W_Nabellen offertes  ...  O_ACCEPTED  A_ACTIVATED  O_CANCELLED  A_DECLINED  \\\n",
      "0                    0  ...           0            0            0           0   \n",
      "1                    0  ...           0            0            0           0   \n",
      "2                    0  ...           0            0            0           0   \n",
      "3                    0  ...           0            0            0           0   \n",
      "4                    0  ...           0            0            0           1   \n",
      "5                    0  ...           0            0            0           0   \n",
      "6                    0  ...           0            0            0           0   \n",
      "7                    0  ...           0            0            0           0   \n",
      "8                    0  ...           0            0            0           0   \n",
      "9                    0  ...           0            0            0           0   \n",
      "\n",
      "   A_CANCELLED  W_Afhandelen leads  O_DECLINED  \\\n",
      "0            0                   0           0   \n",
      "1            0                   0           0   \n",
      "2            0                   1           0   \n",
      "3            0                   1           0   \n",
      "4            0                   0           0   \n",
      "5            0                   1           0   \n",
      "6            0                   0           0   \n",
      "7            0                   0           0   \n",
      "8            0                   1           0   \n",
      "9            0                   1           0   \n",
      "\n",
      "   W_Nabellen incomplete dossiers  W_Beoordelen fraude  day  \n",
      "0                               0                    0   10  \n",
      "1                               0                    0   10  \n",
      "2                               0                    0   10  \n",
      "3                               0                    0   10  \n",
      "4                               0                    0   10  \n",
      "5                               0                    0   10  \n",
      "6                               0                    0   10  \n",
      "7                               0                    0   10  \n",
      "8                               0                    0   10  \n",
      "9                               0                    0   10  \n",
      "\n",
      "[10 rows x 24 columns]\n",
      "0       0.109\n",
      "1       9.706\n",
      "2    6392.728\n",
      "3     101.531\n",
      "4       3.738\n",
      "5       0.000\n",
      "6       0.283\n",
      "7      32.819\n",
      "8    6440.537\n",
      "9      72.864\n",
      "Name: Next time, dtype: float64\n"
     ]
    }
   ],
   "source": [
    "print(x_test.head(10))\n",
    "print(y_test.head(10))"
   ]
  },
  {
   "cell_type": "code",
   "execution_count": 22,
   "metadata": {},
   "outputs": [],
   "source": [
    "#now everything is in array format\n",
    "train_x =np.array(x_train)\n",
    "train_y = np.array(y_train)\n",
    "test_x = np.array(x_test)\n",
    "test_y = np.array(y_test)\n",
    "\n",
    "train_x = np.asarray(train_x).astype('float32')\n",
    "train_y = np.asarray(train_y).astype('float32')\n",
    "test_x = np.asarray(test_x).astype('float32')\n",
    "test_y = np.asarray(test_y).astype('float32')\n"
   ]
  },
  {
   "cell_type": "code",
   "execution_count": 9,
   "metadata": {},
   "outputs": [
    {
     "name": "stdout",
     "output_type": "stream",
     "text": [
      "(38862, 24)\n",
      "(38862,)\n",
      "(17201, 24)\n",
      "(17201,)\n"
     ]
    }
   ],
   "source": [
    "print(train_x.shape)\n",
    "print(train_y.shape)\n",
    "print(test_x.shape)\n",
    "print(test_y.shape)"
   ]
  },
  {
   "cell_type": "code",
   "execution_count": 10,
   "metadata": {},
   "outputs": [],
   "source": [
    "\n",
    "input_dim = x_train.shape[1] # Number of features"
   ]
  },
  {
   "cell_type": "code",
   "execution_count": 11,
   "metadata": {},
   "outputs": [],
   "source": [
    "clear_session()"
   ]
  },
  {
   "cell_type": "code",
   "execution_count": 14,
   "metadata": {},
   "outputs": [],
   "source": [
    "from keras.layers import Flatten, Dense\n",
    "from keras.optimizers import Adam\n",
    "from keras.losses import SparseCategoricalCrossentropy"
   ]
  },
  {
   "cell_type": "code",
   "execution_count": 15,
   "metadata": {},
   "outputs": [],
   "source": [
    "def model_builder(hp):\n",
    "  model = Sequential()\n",
    "  #model.add(Flatten(input_shape=(28, 28)))\n",
    "\n",
    "  # Tune the number of units in the first Dense layer\n",
    "  # Choose an optimal value between 32-512\n",
    "  hp_units = hp.Int('units', min_value=32, max_value=512, step=32)\n",
    "  model.add(Dense(units=hp_units, activation='relu'))\n",
    "  model.add(Dense(10))\n",
    "\n",
    "  # Tune the learning rate for the optimizer\n",
    "  # Choose an optimal value from 0.01, 0.001, or 0.0001\n",
    "  hp_learning_rate = hp.Choice('learning_rate', values=[1e-2, 1e-3, 1e-4])\n",
    "\n",
    "  model.compile(optimizer=Adam(learning_rate=hp_learning_rate),\n",
    "                loss=SparseCategoricalCrossentropy(from_logits=True),\n",
    "                metrics=['accuracy'])\n",
    "\n",
    "  return model"
   ]
  },
  {
   "cell_type": "code",
   "execution_count": 16,
   "metadata": {},
   "outputs": [],
   "source": [
    "import keras_tuner as kt"
   ]
  },
  {
   "cell_type": "code",
   "execution_count": 19,
   "metadata": {},
   "outputs": [],
   "source": [
    "tuner = kt.Hyperband(model_builder,\n",
    "                     objective='val_accuracy',\n",
    "                     max_epochs=100,\n",
    "                     factor=3,\n",
    "                     directory='my_dir',\n",
    "                     project_name='intro_to_kt')"
   ]
  },
  {
   "cell_type": "code",
   "execution_count": 20,
   "metadata": {},
   "outputs": [],
   "source": [
    "import tensorflow as tf\n",
    "stop_early = tf.keras.callbacks.EarlyStopping(monitor='val_loss', patience=5)"
   ]
  },
  {
   "cell_type": "code",
   "execution_count": 28,
   "metadata": {},
   "outputs": [
    {
     "data": {
      "text/plain": [
       "<tf.Tensor: shape=(17201,), dtype=float32, numpy=\n",
       "array([1.0900000e-01, 9.7060003e+00, 6.3927280e+03, ..., 4.8579416e+05,\n",
       "       1.6247000e+01, 0.0000000e+00], dtype=float32)>"
      ]
     },
     "execution_count": 28,
     "metadata": {},
     "output_type": "execute_result"
    }
   ],
   "source": [
    "x_train = tf.convert_to_tensor(x_train, dtype=tf.float32)\n",
    "y_train = tf.convert_to_tensor(y_train, dtype=tf.float32)\n",
    "x_test = tf.convert_to_tensor(x_test, dtype=tf.float32)\n",
    "y_test = tf.convert_to_tensor(y_test, dtype=tf.float32)"
   ]
  },
  {
   "cell_type": "code",
   "execution_count": 29,
   "metadata": {},
   "outputs": [
    {
     "name": "stdout",
     "output_type": "stream",
     "text": [
      "\n",
      "Search: Running Trial #6\n",
      "\n",
      "Value             |Best Value So Far |Hyperparameter\n",
      "384               |?                 |units\n",
      "0.0001            |?                 |learning_rate\n",
      "2                 |?                 |tuner/epochs\n",
      "0                 |?                 |tuner/initial_epoch\n",
      "4                 |?                 |tuner/bracket\n",
      "0                 |?                 |tuner/round\n",
      "\n",
      "Epoch 1/2\n"
     ]
    },
    {
     "name": "stderr",
     "output_type": "stream",
     "text": [
      "Traceback (most recent call last):\n",
      "  File \"c:\\Users\\Cristian\\AppData\\Local\\Programs\\Python\\Python310\\lib\\site-packages\\keras_tuner\\engine\\base_tuner.py\", line 266, in _try_run_and_update_trial\n",
      "    self._run_and_update_trial(trial, *fit_args, **fit_kwargs)\n",
      "  File \"c:\\Users\\Cristian\\AppData\\Local\\Programs\\Python\\Python310\\lib\\site-packages\\keras_tuner\\engine\\base_tuner.py\", line 231, in _run_and_update_trial\n",
      "    results = self.run_trial(trial, *fit_args, **fit_kwargs)\n",
      "  File \"c:\\Users\\Cristian\\AppData\\Local\\Programs\\Python\\Python310\\lib\\site-packages\\keras_tuner\\tuners\\hyperband.py\", line 419, in run_trial\n",
      "    return super().run_trial(trial, *fit_args, **fit_kwargs)\n",
      "  File \"c:\\Users\\Cristian\\AppData\\Local\\Programs\\Python\\Python310\\lib\\site-packages\\keras_tuner\\engine\\tuner.py\", line 287, in run_trial\n",
      "    obj_value = self._build_and_fit_model(trial, *args, **copied_kwargs)\n",
      "  File \"c:\\Users\\Cristian\\AppData\\Local\\Programs\\Python\\Python310\\lib\\site-packages\\keras_tuner\\engine\\tuner.py\", line 214, in _build_and_fit_model\n",
      "    results = self.hypermodel.fit(hp, model, *args, **kwargs)\n",
      "  File \"c:\\Users\\Cristian\\AppData\\Local\\Programs\\Python\\Python310\\lib\\site-packages\\keras_tuner\\engine\\hypermodel.py\", line 144, in fit\n",
      "    return model.fit(*args, **kwargs)\n",
      "  File \"c:\\Users\\Cristian\\AppData\\Local\\Programs\\Python\\Python310\\lib\\site-packages\\keras\\utils\\traceback_utils.py\", line 70, in error_handler\n",
      "    raise e.with_traceback(filtered_tb) from None\n",
      "  File \"c:\\Users\\Cristian\\AppData\\Local\\Programs\\Python\\Python310\\lib\\site-packages\\tensorflow\\python\\eager\\execute.py\", line 52, in quick_execute\n",
      "    tensors = pywrap_tfe.TFE_Py_Execute(ctx._handle, device_name, op_name,\n",
      "tensorflow.python.framework.errors_impl.InvalidArgumentError: Graph execution error:\n",
      "\n",
      "Detected at node 'sparse_categorical_crossentropy/SparseSoftmaxCrossEntropyWithLogits/SparseSoftmaxCrossEntropyWithLogits' defined at (most recent call last):\n",
      "    File \"c:\\Users\\Cristian\\AppData\\Local\\Programs\\Python\\Python310\\lib\\runpy.py\", line 196, in _run_module_as_main\n",
      "      return _run_code(code, main_globals, None,\n",
      "    File \"c:\\Users\\Cristian\\AppData\\Local\\Programs\\Python\\Python310\\lib\\runpy.py\", line 86, in _run_code\n",
      "      exec(code, run_globals)\n",
      "    File \"C:\\Users\\Cristian\\AppData\\Roaming\\Python\\Python310\\site-packages\\ipykernel_launcher.py\", line 17, in <module>\n",
      "      app.launch_new_instance()\n",
      "    File \"c:\\Users\\Cristian\\AppData\\Local\\Programs\\Python\\Python310\\lib\\site-packages\\traitlets\\config\\application.py\", line 982, in launch_instance\n",
      "      app.start()\n",
      "    File \"C:\\Users\\Cristian\\AppData\\Roaming\\Python\\Python310\\site-packages\\ipykernel\\kernelapp.py\", line 725, in start\n",
      "      self.io_loop.start()\n",
      "    File \"C:\\Users\\Cristian\\AppData\\Roaming\\Python\\Python310\\site-packages\\tornado\\platform\\asyncio.py\", line 215, in start\n",
      "      self.asyncio_loop.run_forever()\n",
      "    File \"c:\\Users\\Cristian\\AppData\\Local\\Programs\\Python\\Python310\\lib\\asyncio\\base_events.py\", line 603, in run_forever\n",
      "      self._run_once()\n",
      "    File \"c:\\Users\\Cristian\\AppData\\Local\\Programs\\Python\\Python310\\lib\\asyncio\\base_events.py\", line 1899, in _run_once\n",
      "      handle._run()\n",
      "    File \"c:\\Users\\Cristian\\AppData\\Local\\Programs\\Python\\Python310\\lib\\asyncio\\events.py\", line 80, in _run\n",
      "      self._context.run(self._callback, *self._args)\n",
      "    File \"C:\\Users\\Cristian\\AppData\\Roaming\\Python\\Python310\\site-packages\\ipykernel\\kernelbase.py\", line 513, in dispatch_queue\n",
      "      await self.process_one()\n",
      "    File \"C:\\Users\\Cristian\\AppData\\Roaming\\Python\\Python310\\site-packages\\ipykernel\\kernelbase.py\", line 502, in process_one\n",
      "      await dispatch(*args)\n",
      "    File \"C:\\Users\\Cristian\\AppData\\Roaming\\Python\\Python310\\site-packages\\ipykernel\\kernelbase.py\", line 409, in dispatch_shell\n",
      "      await result\n",
      "    File \"C:\\Users\\Cristian\\AppData\\Roaming\\Python\\Python310\\site-packages\\ipykernel\\kernelbase.py\", line 729, in execute_request\n",
      "      reply_content = await reply_content\n",
      "    File \"C:\\Users\\Cristian\\AppData\\Roaming\\Python\\Python310\\site-packages\\ipykernel\\ipkernel.py\", line 422, in do_execute\n",
      "      res = shell.run_cell(\n",
      "    File \"C:\\Users\\Cristian\\AppData\\Roaming\\Python\\Python310\\site-packages\\ipykernel\\zmqshell.py\", line 540, in run_cell\n",
      "      return super().run_cell(*args, **kwargs)\n",
      "    File \"c:\\Users\\Cristian\\AppData\\Local\\Programs\\Python\\Python310\\lib\\site-packages\\IPython\\core\\interactiveshell.py\", line 2885, in run_cell\n",
      "      result = self._run_cell(\n",
      "    File \"c:\\Users\\Cristian\\AppData\\Local\\Programs\\Python\\Python310\\lib\\site-packages\\IPython\\core\\interactiveshell.py\", line 2940, in _run_cell\n",
      "      return runner(coro)\n",
      "    File \"c:\\Users\\Cristian\\AppData\\Local\\Programs\\Python\\Python310\\lib\\site-packages\\IPython\\core\\async_helpers.py\", line 129, in _pseudo_sync_runner\n",
      "      coro.send(None)\n",
      "    File \"c:\\Users\\Cristian\\AppData\\Local\\Programs\\Python\\Python310\\lib\\site-packages\\IPython\\core\\interactiveshell.py\", line 3139, in run_cell_async\n",
      "      has_raised = await self.run_ast_nodes(code_ast.body, cell_name,\n",
      "    File \"c:\\Users\\Cristian\\AppData\\Local\\Programs\\Python\\Python310\\lib\\site-packages\\IPython\\core\\interactiveshell.py\", line 3318, in run_ast_nodes\n",
      "      if await self.run_code(code, result, async_=asy):\n",
      "    File \"c:\\Users\\Cristian\\AppData\\Local\\Programs\\Python\\Python310\\lib\\site-packages\\IPython\\core\\interactiveshell.py\", line 3378, in run_code\n",
      "      exec(code_obj, self.user_global_ns, self.user_ns)\n",
      "    File \"C:\\Users\\Cristian\\AppData\\Local\\Temp\\ipykernel_576\\2782783827.py\", line 1, in <module>\n",
      "      tuner.search(x_train, y_train, epochs=50, validation_split=0.2, callbacks=[stop_early])\n",
      "    File \"c:\\Users\\Cristian\\AppData\\Local\\Programs\\Python\\Python310\\lib\\site-packages\\keras_tuner\\engine\\base_tuner.py\", line 226, in search\n",
      "      self._try_run_and_update_trial(trial, *fit_args, **fit_kwargs)\n",
      "    File \"c:\\Users\\Cristian\\AppData\\Local\\Programs\\Python\\Python310\\lib\\site-packages\\keras_tuner\\engine\\base_tuner.py\", line 266, in _try_run_and_update_trial\n",
      "      self._run_and_update_trial(trial, *fit_args, **fit_kwargs)\n",
      "    File \"c:\\Users\\Cristian\\AppData\\Local\\Programs\\Python\\Python310\\lib\\site-packages\\keras_tuner\\engine\\base_tuner.py\", line 231, in _run_and_update_trial\n",
      "      results = self.run_trial(trial, *fit_args, **fit_kwargs)\n",
      "    File \"c:\\Users\\Cristian\\AppData\\Local\\Programs\\Python\\Python310\\lib\\site-packages\\keras_tuner\\tuners\\hyperband.py\", line 419, in run_trial\n",
      "      return super().run_trial(trial, *fit_args, **fit_kwargs)\n",
      "    File \"c:\\Users\\Cristian\\AppData\\Local\\Programs\\Python\\Python310\\lib\\site-packages\\keras_tuner\\engine\\tuner.py\", line 287, in run_trial\n",
      "      obj_value = self._build_and_fit_model(trial, *args, **copied_kwargs)\n",
      "    File \"c:\\Users\\Cristian\\AppData\\Local\\Programs\\Python\\Python310\\lib\\site-packages\\keras_tuner\\engine\\tuner.py\", line 214, in _build_and_fit_model\n",
      "      results = self.hypermodel.fit(hp, model, *args, **kwargs)\n",
      "    File \"c:\\Users\\Cristian\\AppData\\Local\\Programs\\Python\\Python310\\lib\\site-packages\\keras_tuner\\engine\\hypermodel.py\", line 144, in fit\n",
      "      return model.fit(*args, **kwargs)\n",
      "    File \"c:\\Users\\Cristian\\AppData\\Local\\Programs\\Python\\Python310\\lib\\site-packages\\keras\\utils\\traceback_utils.py\", line 65, in error_handler\n",
      "      return fn(*args, **kwargs)\n",
      "    File \"c:\\Users\\Cristian\\AppData\\Local\\Programs\\Python\\Python310\\lib\\site-packages\\keras\\engine\\training.py\", line 1650, in fit\n",
      "      tmp_logs = self.train_function(iterator)\n",
      "    File \"c:\\Users\\Cristian\\AppData\\Local\\Programs\\Python\\Python310\\lib\\site-packages\\keras\\engine\\training.py\", line 1249, in train_function\n",
      "      return step_function(self, iterator)\n",
      "    File \"c:\\Users\\Cristian\\AppData\\Local\\Programs\\Python\\Python310\\lib\\site-packages\\keras\\engine\\training.py\", line 1233, in step_function\n",
      "      outputs = model.distribute_strategy.run(run_step, args=(data,))\n",
      "    File \"c:\\Users\\Cristian\\AppData\\Local\\Programs\\Python\\Python310\\lib\\site-packages\\keras\\engine\\training.py\", line 1222, in run_step\n",
      "      outputs = model.train_step(data)\n",
      "    File \"c:\\Users\\Cristian\\AppData\\Local\\Programs\\Python\\Python310\\lib\\site-packages\\keras\\engine\\training.py\", line 1024, in train_step\n",
      "      loss = self.compute_loss(x, y, y_pred, sample_weight)\n",
      "    File \"c:\\Users\\Cristian\\AppData\\Local\\Programs\\Python\\Python310\\lib\\site-packages\\keras\\engine\\training.py\", line 1082, in compute_loss\n",
      "      return self.compiled_loss(\n",
      "    File \"c:\\Users\\Cristian\\AppData\\Local\\Programs\\Python\\Python310\\lib\\site-packages\\keras\\engine\\compile_utils.py\", line 265, in __call__\n",
      "      loss_value = loss_obj(y_t, y_p, sample_weight=sw)\n",
      "    File \"c:\\Users\\Cristian\\AppData\\Local\\Programs\\Python\\Python310\\lib\\site-packages\\keras\\losses.py\", line 152, in __call__\n",
      "      losses = call_fn(y_true, y_pred)\n",
      "    File \"c:\\Users\\Cristian\\AppData\\Local\\Programs\\Python\\Python310\\lib\\site-packages\\keras\\losses.py\", line 284, in call\n",
      "      return ag_fn(y_true, y_pred, **self._fn_kwargs)\n",
      "    File \"c:\\Users\\Cristian\\AppData\\Local\\Programs\\Python\\Python310\\lib\\site-packages\\keras\\losses.py\", line 2098, in sparse_categorical_crossentropy\n",
      "      return backend.sparse_categorical_crossentropy(\n",
      "    File \"c:\\Users\\Cristian\\AppData\\Local\\Programs\\Python\\Python310\\lib\\site-packages\\keras\\backend.py\", line 5633, in sparse_categorical_crossentropy\n",
      "      res = tf.nn.sparse_softmax_cross_entropy_with_logits(\n",
      "Node: 'sparse_categorical_crossentropy/SparseSoftmaxCrossEntropyWithLogits/SparseSoftmaxCrossEntropyWithLogits'\n",
      "Received a label value of 87595 which is outside the valid range of [0, 10).  Label values: 87595 36 0 3 3 240 129 17074 108 0 0 0 0 251 0 151 327 1 183 0 7752 7 1349 39 0 1 14023 0 135 138 1864 0\n",
      "\t [[{{node sparse_categorical_crossentropy/SparseSoftmaxCrossEntropyWithLogits/SparseSoftmaxCrossEntropyWithLogits}}]] [Op:__inference_train_function_1664]\n"
     ]
    },
    {
     "ename": "RuntimeError",
     "evalue": "Number of consecutive failures excceeded the limit of 3.\nTraceback (most recent call last):\n  File \"c:\\Users\\Cristian\\AppData\\Local\\Programs\\Python\\Python310\\lib\\site-packages\\keras_tuner\\engine\\base_tuner.py\", line 266, in _try_run_and_update_trial\n    self._run_and_update_trial(trial, *fit_args, **fit_kwargs)\n  File \"c:\\Users\\Cristian\\AppData\\Local\\Programs\\Python\\Python310\\lib\\site-packages\\keras_tuner\\engine\\base_tuner.py\", line 231, in _run_and_update_trial\n    results = self.run_trial(trial, *fit_args, **fit_kwargs)\n  File \"c:\\Users\\Cristian\\AppData\\Local\\Programs\\Python\\Python310\\lib\\site-packages\\keras_tuner\\tuners\\hyperband.py\", line 419, in run_trial\n    return super().run_trial(trial, *fit_args, **fit_kwargs)\n  File \"c:\\Users\\Cristian\\AppData\\Local\\Programs\\Python\\Python310\\lib\\site-packages\\keras_tuner\\engine\\tuner.py\", line 287, in run_trial\n    obj_value = self._build_and_fit_model(trial, *args, **copied_kwargs)\n  File \"c:\\Users\\Cristian\\AppData\\Local\\Programs\\Python\\Python310\\lib\\site-packages\\keras_tuner\\engine\\tuner.py\", line 214, in _build_and_fit_model\n    results = self.hypermodel.fit(hp, model, *args, **kwargs)\n  File \"c:\\Users\\Cristian\\AppData\\Local\\Programs\\Python\\Python310\\lib\\site-packages\\keras_tuner\\engine\\hypermodel.py\", line 144, in fit\n    return model.fit(*args, **kwargs)\n  File \"c:\\Users\\Cristian\\AppData\\Local\\Programs\\Python\\Python310\\lib\\site-packages\\keras\\utils\\traceback_utils.py\", line 70, in error_handler\n    raise e.with_traceback(filtered_tb) from None\n  File \"c:\\Users\\Cristian\\AppData\\Local\\Programs\\Python\\Python310\\lib\\site-packages\\tensorflow\\python\\framework\\constant_op.py\", line 102, in convert_to_eager_tensor\n    return ops.EagerTensor(value, ctx.device_name, dtype)\nValueError: Failed to convert a NumPy array to a Tensor (Unsupported object type int).\n",
     "output_type": "error",
     "traceback": [
      "\u001b[1;31m---------------------------------------------------------------------------\u001b[0m",
      "\u001b[1;31mRuntimeError\u001b[0m                              Traceback (most recent call last)",
      "\u001b[1;32mc:\\Users\\Cristian\\Desktop\\Q3\\ProcessMining\\ProcessMining\\nn_time_predictor.ipynb Cell 17\u001b[0m in \u001b[0;36m1\n\u001b[1;32m----> <a href='vscode-notebook-cell:/c%3A/Users/Cristian/Desktop/Q3/ProcessMining/ProcessMining/nn_time_predictor.ipynb#X16sZmlsZQ%3D%3D?line=0'>1</a>\u001b[0m tuner\u001b[39m.\u001b[39;49msearch(x_train, y_train, epochs\u001b[39m=\u001b[39;49m\u001b[39m50\u001b[39;49m, validation_split\u001b[39m=\u001b[39;49m\u001b[39m0.2\u001b[39;49m, callbacks\u001b[39m=\u001b[39;49m[stop_early])\n\u001b[0;32m      <a href='vscode-notebook-cell:/c%3A/Users/Cristian/Desktop/Q3/ProcessMining/ProcessMining/nn_time_predictor.ipynb#X16sZmlsZQ%3D%3D?line=2'>3</a>\u001b[0m \u001b[39m# Get the optimal hyperparameters\u001b[39;00m\n\u001b[0;32m      <a href='vscode-notebook-cell:/c%3A/Users/Cristian/Desktop/Q3/ProcessMining/ProcessMining/nn_time_predictor.ipynb#X16sZmlsZQ%3D%3D?line=3'>4</a>\u001b[0m best_hps\u001b[39m=\u001b[39mtuner\u001b[39m.\u001b[39mget_best_hyperparameters(num_trials\u001b[39m=\u001b[39m\u001b[39m1\u001b[39m)[\u001b[39m0\u001b[39m]\n",
      "File \u001b[1;32mc:\\Users\\Cristian\\AppData\\Local\\Programs\\Python\\Python310\\lib\\site-packages\\keras_tuner\\engine\\base_tuner.py:227\u001b[0m, in \u001b[0;36mBaseTuner.search\u001b[1;34m(self, *fit_args, **fit_kwargs)\u001b[0m\n\u001b[0;32m    225\u001b[0m     \u001b[39mself\u001b[39m\u001b[39m.\u001b[39mon_trial_begin(trial)\n\u001b[0;32m    226\u001b[0m     \u001b[39mself\u001b[39m\u001b[39m.\u001b[39m_try_run_and_update_trial(trial, \u001b[39m*\u001b[39mfit_args, \u001b[39m*\u001b[39m\u001b[39m*\u001b[39mfit_kwargs)\n\u001b[1;32m--> 227\u001b[0m     \u001b[39mself\u001b[39;49m\u001b[39m.\u001b[39;49mon_trial_end(trial)\n\u001b[0;32m    228\u001b[0m \u001b[39mself\u001b[39m\u001b[39m.\u001b[39mon_search_end()\n",
      "File \u001b[1;32mc:\\Users\\Cristian\\AppData\\Local\\Programs\\Python\\Python310\\lib\\site-packages\\keras_tuner\\engine\\base_tuner.py:331\u001b[0m, in \u001b[0;36mBaseTuner.on_trial_end\u001b[1;34m(self, trial)\u001b[0m\n\u001b[0;32m    325\u001b[0m \u001b[39mdef\u001b[39;00m \u001b[39mon_trial_end\u001b[39m(\u001b[39mself\u001b[39m, trial):\n\u001b[0;32m    326\u001b[0m     \u001b[39m\"\"\"Called at the end of a trial.\u001b[39;00m\n\u001b[0;32m    327\u001b[0m \n\u001b[0;32m    328\u001b[0m \u001b[39m    Args:\u001b[39;00m\n\u001b[0;32m    329\u001b[0m \u001b[39m        trial: A `Trial` instance.\u001b[39;00m\n\u001b[0;32m    330\u001b[0m \u001b[39m    \"\"\"\u001b[39;00m\n\u001b[1;32m--> 331\u001b[0m     \u001b[39mself\u001b[39;49m\u001b[39m.\u001b[39;49moracle\u001b[39m.\u001b[39;49mend_trial(trial)\n\u001b[0;32m    332\u001b[0m     \u001b[39m# Display needs the updated trial scored by the Oracle.\u001b[39;00m\n\u001b[0;32m    333\u001b[0m     \u001b[39mself\u001b[39m\u001b[39m.\u001b[39m_display\u001b[39m.\u001b[39mon_trial_end(\u001b[39mself\u001b[39m\u001b[39m.\u001b[39moracle\u001b[39m.\u001b[39mget_trial(trial\u001b[39m.\u001b[39mtrial_id))\n",
      "File \u001b[1;32mc:\\Users\\Cristian\\AppData\\Local\\Programs\\Python\\Python310\\lib\\site-packages\\keras_tuner\\engine\\oracle.py:108\u001b[0m, in \u001b[0;36msynchronized.<locals>.wrapped_func\u001b[1;34m(*args, **kwargs)\u001b[0m\n\u001b[0;32m    106\u001b[0m     LOCKS[oracle]\u001b[39m.\u001b[39macquire()\n\u001b[0;32m    107\u001b[0m     THREADS[oracle] \u001b[39m=\u001b[39m thread_name\n\u001b[1;32m--> 108\u001b[0m ret_val \u001b[39m=\u001b[39m func(\u001b[39m*\u001b[39margs, \u001b[39m*\u001b[39m\u001b[39m*\u001b[39mkwargs)\n\u001b[0;32m    109\u001b[0m \u001b[39mif\u001b[39;00m need_acquire:\n\u001b[0;32m    110\u001b[0m     THREADS[oracle] \u001b[39m=\u001b[39m \u001b[39mNone\u001b[39;00m\n",
      "File \u001b[1;32mc:\\Users\\Cristian\\AppData\\Local\\Programs\\Python\\Python310\\lib\\site-packages\\keras_tuner\\engine\\oracle.py:435\u001b[0m, in \u001b[0;36mOracle.end_trial\u001b[1;34m(self, trial)\u001b[0m\n\u001b[0;32m    433\u001b[0m \u001b[39mif\u001b[39;00m \u001b[39mnot\u001b[39;00m \u001b[39mself\u001b[39m\u001b[39m.\u001b[39m_retry(trial):\n\u001b[0;32m    434\u001b[0m     \u001b[39mself\u001b[39m\u001b[39m.\u001b[39mend_order\u001b[39m.\u001b[39mappend(trial\u001b[39m.\u001b[39mtrial_id)\n\u001b[1;32m--> 435\u001b[0m     \u001b[39mself\u001b[39;49m\u001b[39m.\u001b[39;49m_check_consecutive_failures()\n\u001b[0;32m    437\u001b[0m \u001b[39mself\u001b[39m\u001b[39m.\u001b[39m_save_trial(trial)\n\u001b[0;32m    438\u001b[0m \u001b[39mself\u001b[39m\u001b[39m.\u001b[39msave()\n",
      "File \u001b[1;32mc:\\Users\\Cristian\\AppData\\Local\\Programs\\Python\\Python310\\lib\\site-packages\\keras_tuner\\engine\\oracle.py:387\u001b[0m, in \u001b[0;36mOracle._check_consecutive_failures\u001b[1;34m(self)\u001b[0m\n\u001b[0;32m    385\u001b[0m     consecutive_failures \u001b[39m=\u001b[39m \u001b[39m0\u001b[39m\n\u001b[0;32m    386\u001b[0m \u001b[39mif\u001b[39;00m consecutive_failures \u001b[39m==\u001b[39m \u001b[39mself\u001b[39m\u001b[39m.\u001b[39mmax_consecutive_failed_trials:\n\u001b[1;32m--> 387\u001b[0m     \u001b[39mraise\u001b[39;00m \u001b[39mRuntimeError\u001b[39;00m(\n\u001b[0;32m    388\u001b[0m         \u001b[39m\"\u001b[39m\u001b[39mNumber of consecutive failures excceeded the limit \u001b[39m\u001b[39m\"\u001b[39m\n\u001b[0;32m    389\u001b[0m         \u001b[39mf\u001b[39m\u001b[39m\"\u001b[39m\u001b[39mof \u001b[39m\u001b[39m{\u001b[39;00m\u001b[39mself\u001b[39m\u001b[39m.\u001b[39mmax_consecutive_failed_trials\u001b[39m}\u001b[39;00m\u001b[39m.\u001b[39m\u001b[39m\\n\u001b[39;00m\u001b[39m\"\u001b[39m\n\u001b[0;32m    390\u001b[0m         \u001b[39m+\u001b[39m trial\u001b[39m.\u001b[39mmessage\n\u001b[0;32m    391\u001b[0m     )\n",
      "\u001b[1;31mRuntimeError\u001b[0m: Number of consecutive failures excceeded the limit of 3.\nTraceback (most recent call last):\n  File \"c:\\Users\\Cristian\\AppData\\Local\\Programs\\Python\\Python310\\lib\\site-packages\\keras_tuner\\engine\\base_tuner.py\", line 266, in _try_run_and_update_trial\n    self._run_and_update_trial(trial, *fit_args, **fit_kwargs)\n  File \"c:\\Users\\Cristian\\AppData\\Local\\Programs\\Python\\Python310\\lib\\site-packages\\keras_tuner\\engine\\base_tuner.py\", line 231, in _run_and_update_trial\n    results = self.run_trial(trial, *fit_args, **fit_kwargs)\n  File \"c:\\Users\\Cristian\\AppData\\Local\\Programs\\Python\\Python310\\lib\\site-packages\\keras_tuner\\tuners\\hyperband.py\", line 419, in run_trial\n    return super().run_trial(trial, *fit_args, **fit_kwargs)\n  File \"c:\\Users\\Cristian\\AppData\\Local\\Programs\\Python\\Python310\\lib\\site-packages\\keras_tuner\\engine\\tuner.py\", line 287, in run_trial\n    obj_value = self._build_and_fit_model(trial, *args, **copied_kwargs)\n  File \"c:\\Users\\Cristian\\AppData\\Local\\Programs\\Python\\Python310\\lib\\site-packages\\keras_tuner\\engine\\tuner.py\", line 214, in _build_and_fit_model\n    results = self.hypermodel.fit(hp, model, *args, **kwargs)\n  File \"c:\\Users\\Cristian\\AppData\\Local\\Programs\\Python\\Python310\\lib\\site-packages\\keras_tuner\\engine\\hypermodel.py\", line 144, in fit\n    return model.fit(*args, **kwargs)\n  File \"c:\\Users\\Cristian\\AppData\\Local\\Programs\\Python\\Python310\\lib\\site-packages\\keras\\utils\\traceback_utils.py\", line 70, in error_handler\n    raise e.with_traceback(filtered_tb) from None\n  File \"c:\\Users\\Cristian\\AppData\\Local\\Programs\\Python\\Python310\\lib\\site-packages\\tensorflow\\python\\framework\\constant_op.py\", line 102, in convert_to_eager_tensor\n    return ops.EagerTensor(value, ctx.device_name, dtype)\nValueError: Failed to convert a NumPy array to a Tensor (Unsupported object type int).\n"
     ]
    }
   ],
   "source": [
    "tuner.search(x_train, y_train, epochs=50, validation_split=0.2, callbacks=[stop_early])\n",
    "\n",
    "# Get the optimal hyperparameters\n",
    "best_hps=tuner.get_best_hyperparameters(num_trials=1)[0]\n",
    "\n",
    "print(f\"\"\"\n",
    "The hyperparameter search is complete. The optimal number of units in the first densely-connected\n",
    "layer is {best_hps.get('units')} and the optimal learning rate for the optimizer\n",
    "is {best_hps.get('learning_rate')}.\n",
    "\"\"\")"
   ]
  }
 ],
 "metadata": {
  "kernelspec": {
   "display_name": "Python 3",
   "language": "python",
   "name": "python3"
  },
  "language_info": {
   "codemirror_mode": {
    "name": "ipython",
    "version": 3
   },
   "file_extension": ".py",
   "mimetype": "text/x-python",
   "name": "python",
   "nbconvert_exporter": "python",
   "pygments_lexer": "ipython3",
   "version": "3.10.8"
  },
  "orig_nbformat": 4
 },
 "nbformat": 4,
 "nbformat_minor": 2
}
