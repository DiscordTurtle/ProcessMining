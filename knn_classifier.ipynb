{
 "cells": [
  {
   "cell_type": "code",
   "execution_count": 1,
   "metadata": {},
   "outputs": [
    {
     "name": "stdout",
     "output_type": "stream",
     "text": [
      "set the data\n"
     ]
    }
   ],
   "source": [
    "#import libraries\n",
    "import pandas as pd\n",
    "import numpy as np\n",
    "\n",
    "#import the neccessary module\n",
    "from helper import Model\n",
    "from helper import Auxiliary\n",
    "\n",
    "# Modelling\n",
    "from sklearn.neighbors import KNeighborsClassifier\n",
    "from sklearn.metrics import accuracy_score"
   ]
  },
  {
   "attachments": {},
   "cell_type": "markdown",
   "metadata": {},
   "source": [
    "MODEL FOR 2012 DATASET"
   ]
  },
  {
   "cell_type": "code",
   "execution_count": 2,
   "metadata": {},
   "outputs": [
    {
     "name": "stdout",
     "output_type": "stream",
     "text": [
      "Start preprocessing data\n",
      "Finished preprocessing data\n",
      "Start splitting data\n",
      "Finished splitting data\n"
     ]
    }
   ],
   "source": [
    "#Preprocess data and then split it into train and test sets\n",
    "df_train, df_test = Auxiliary.train_test_split(Auxiliary.preprocess_data(Model.get_csv('BPI_Challenge_2012.csv')))"
   ]
  },
  {
   "cell_type": "code",
   "execution_count": 3,
   "metadata": {},
   "outputs": [],
   "source": [
    "#split the data into training and test sets\n",
    "X_train = df_train.drop(['org:resource', 'case:AMOUNT_REQ', 'Next Event', 'case:REG_DATE', 'time:timestamp'], axis=1)\n",
    "X_test = df_test.drop(['org:resource', 'case:AMOUNT_REQ', 'Next Event', 'case:REG_DATE', 'time:timestamp'], axis=1)\n",
    "y_train = df_train['Next Event']\n",
    "y_test = df_test['Next Event']"
   ]
  },
  {
   "cell_type": "code",
   "execution_count": 4,
   "metadata": {},
   "outputs": [
    {
     "name": "stdout",
     "output_type": "stream",
     "text": [
      "Accuracy: 0.21260391837683856\n"
     ]
    }
   ],
   "source": [
    "#create an instance of the Random Forest model and then fit this to our training data\n",
    "knn = KNeighborsClassifier(n_neighbors=3)\n",
    "knn.fit(X_train, y_train)\n",
    "\n",
    "#predict the data\n",
    "y_pred = knn.predict(X_test)\n",
    "\n",
    "#compute the accuracy of the predictor\n",
    "accuracy = accuracy_score(y_test, y_pred)\n",
    "print(\"Accuracy:\", accuracy)"
   ]
  },
  {
   "attachments": {},
   "cell_type": "markdown",
   "metadata": {},
   "source": [
    "MODEL FOR 2017 DATASET"
   ]
  },
  {
   "cell_type": "code",
   "execution_count": 5,
   "metadata": {},
   "outputs": [
    {
     "name": "stdout",
     "output_type": "stream",
     "text": [
      "Start preprocessing data\n",
      "Finished preprocessing data\n",
      "Start splitting data\n",
      "Finished splitting data\n"
     ]
    }
   ],
   "source": [
    "#Preprocess data and then split it into train and test sets\n",
    "df_train_2017, df_test_2017 = Auxiliary.train_test_split(Auxiliary.preprocess_data_2017(Model.get_csv('BPI_Challenge_2017.csv')))"
   ]
  },
  {
   "cell_type": "code",
   "execution_count": 6,
   "metadata": {},
   "outputs": [],
   "source": [
    "#split the data into training and test sets\n",
    "X_train_2017 = df_train_2017.drop(['org:resource', 'EventOrigin', 'Next Event', 'EventID', 'time:timestamp', 'Action', 'case:LoanGoal', 'case:ApplicationType', 'FirstWithdrawalAmount', 'NumberOfTerms', 'Accepted', 'MonthlyCost', 'Selected', 'CreditScore', 'OfferedAmount', 'OfferID', 'case:REG_DATE'], axis=1)\n",
    "X_test_2017 = df_test_2017.drop(['org:resource', 'EventOrigin', 'Next Event', 'EventID', 'time:timestamp', 'Action', 'case:LoanGoal', 'case:ApplicationType', 'FirstWithdrawalAmount', 'NumberOfTerms', 'Accepted', 'MonthlyCost', 'Selected', 'CreditScore', 'OfferedAmount', 'OfferID', 'case:REG_DATE'], axis=1)\n",
    "y_train_2017 = df_train_2017['Next Event']\n",
    "y_test_2017 = df_test_2017['Next Event']"
   ]
  },
  {
   "cell_type": "code",
   "execution_count": 7,
   "metadata": {},
   "outputs": [
    {
     "name": "stdout",
     "output_type": "stream",
     "text": [
      "Accuracy: 0.14890520055727682\n"
     ]
    }
   ],
   "source": [
    "#create an instance of the Random Forest model and then fit this to our training data\n",
    "knn_2017 = KNeighborsClassifier(n_neighbors=3)\n",
    "knn_2017.fit(X_train_2017, y_train_2017)\n",
    "\n",
    "#predict the data\n",
    "y_pred_2017 = knn_2017.predict(X_test_2017)\n",
    "\n",
    "#compute the accuracy of the predictor\n",
    "accuracy_2017 = accuracy_score(y_test_2017, y_pred_2017)\n",
    "print(\"Accuracy:\", accuracy_2017)"
   ]
  }
 ],
 "metadata": {
  "kernelspec": {
   "display_name": "base",
   "language": "python",
   "name": "python3"
  },
  "language_info": {
   "codemirror_mode": {
    "name": "ipython",
    "version": 3
   },
   "file_extension": ".py",
   "mimetype": "text/x-python",
   "name": "python",
   "nbconvert_exporter": "python",
   "pygments_lexer": "ipython3",
   "version": "3.8.8"
  },
  "orig_nbformat": 4
 },
 "nbformat": 4,
 "nbformat_minor": 2
}
